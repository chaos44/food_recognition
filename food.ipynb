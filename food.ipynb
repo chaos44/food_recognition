{
  "nbformat": 4,
  "nbformat_minor": 0,
  "metadata": {
    "colab": {
      "name": "Untitled",
      "provenance": [],
      "authorship_tag": "ABX9TyMPleOOuzvf3ZRDs7tHdXdM",
      "include_colab_link": true
    },
    "kernelspec": {
      "name": "python3",
      "display_name": "Python 3"
    },
    "accelerator": "GPU"
  },
  "cells": [
    {
      "cell_type": "markdown",
      "metadata": {
        "id": "view-in-github",
        "colab_type": "text"
      },
      "source": [
        "<a href=\"https://colab.research.google.com/github/chaos44/food_recognition/blob/master/food.ipynb\" target=\"_parent\"><img src=\"https://colab.research.google.com/assets/colab-badge.svg\" alt=\"Open In Colab\"/></a>"
      ]
    },
    {
      "cell_type": "code",
      "metadata": {
        "id": "ROQtwG2B2Bke",
        "colab_type": "code",
        "colab": {}
      },
      "source": [
        "!pip install -U -q PyDrive\n",
        "from pydrive.auth import GoogleAuth\n",
        "from pydrive.drive import GoogleDrive\n",
        "from google.colab import auth\n",
        "from oauth2client.client import GoogleCredentials# 1. Authenticate and create the PyDrive client.\n",
        "auth.authenticate_user()\n",
        "gauth = GoogleAuth()\n",
        "gauth.credentials = GoogleCredentials.get_application_default()\n",
        "drive = GoogleDrive(gauth)#2. Get the file\n",
        "d10 = drive.CreateFile({'id':'1jqXr5d-UAhOUaPIb-g7p_8xEW9XxHjUr'}) # replace the id with id of file you want to access\n",
        "d20 = drive.CreateFile({'id':'11LROdN-lQh0b25xoxNFBjSbYhQrEG5Dy'})\n",
        "d30 = drive.CreateFile({'id':'12uU6ocY9r6BfBk8fo4BQC8BVXjDDhCBb'})\n",
        "d40 = drive.CreateFile({'id':'1Hs5OVtYD8xDvLd7y6drDHUu4ErXjBvr_'})\n",
        "d50 = drive.CreateFile({'id':'19FaeD7fdFlqu0U8K2DIJevtp1tb4PbBe'})\n",
        "d10.GetContentFile('d10.zip')\n",
        "d20.GetContentFile('d20.zip')\n",
        "d30.GetContentFile('d30.zip')\n",
        "d40.GetContentFile('d40.zip')\n",
        "d50.GetContentFile('d50.zip')"
      ],
      "execution_count": 1,
      "outputs": []
    },
    {
      "cell_type": "code",
      "metadata": {
        "id": "sfEvmx7J2IlL",
        "colab_type": "code",
        "colab": {}
      },
      "source": [
        "!unzip d10.zip -d food\n",
        "!unzip d20.zip -d food\n",
        "!unzip d30.zip -d food\n",
        "!unzip d40.zip -d food\n",
        "!unzip d50.zip -d food"
      ],
      "execution_count": null,
      "outputs": []
    },
    {
      "cell_type": "code",
      "metadata": {
        "id": "UQH8nAry2dCT",
        "colab_type": "code",
        "colab": {}
      },
      "source": [
        "from PIL import Image\n",
        "import os, glob\n",
        "import numpy as np\n",
        "from sklearn import model_selection\n",
        "# from keras.preprocessing.image import ImageDataGenerator"
      ],
      "execution_count": 1,
      "outputs": []
    },
    {
      "cell_type": "code",
      "metadata": {
        "id": "Aa1mxJNLUGBy",
        "colab_type": "code",
        "colab": {}
      },
      "source": [
        "# 中心から任意のサイズをトリミング\n",
        "def crop_center(pil_img, crop_width, crop_height):\n",
        "    img_width, img_height = pil_img.size\n",
        "    return pil_img.crop(((img_width - crop_width) // 2,\n",
        "                         (img_height - crop_height) // 2,\n",
        "                         (img_width + crop_width) // 2,\n",
        "                         (img_height + crop_height) // 2))"
      ],
      "execution_count": 2,
      "outputs": []
    },
    {
      "cell_type": "code",
      "metadata": {
        "id": "fLimmj8g5njS",
        "colab_type": "code",
        "colab": {}
      },
      "source": [
        "# パラメータの初期化\n",
        "classes = ['beefdon', 'curry', 'fish', 'humberger', 'katsudon', 'ramen', 'seafooddon', 'soba', 'spaghetti', 'tempuradon'\n",
        "         , 'udon', 'lasagna', 'hamburger_steak', 'nikujaga', 'fried_rice', 'omelette', 'sukiyaki', 'sushi', 'gyoza', 'fried_chicken'\n",
        "         , 'okonomiyaki', 'croquette', 'pancake', 'french_toast', 'tart', 'taco_rice', 'doria', 'takoyaki', 'tapioca', 'yakisoba'\n",
        "         , 'ginger_pork', 'steak', 'roast_meat', 'bread', 'yakitori', 'rice_ball', 'goya_chanpuru', 'instant_noodle', 'meat_bun', 'gratin'\n",
        "         , 'mabo_tofu', 'tiramisu', 'cream_puff', 'eclair', 'hot_dog', 'potato_salad', 'stew', 'pizza', 'french_fry', 'avocado_salad']\n",
        "num_classes = len(classes)\n",
        "image_size = 150"
      ],
      "execution_count": 3,
      "outputs": []
    },
    {
      "cell_type": "code",
      "metadata": {
        "id": "nOTvEEbT5p69",
        "colab_type": "code",
        "colab": {}
      },
      "source": [
        "# 画像の読み込みとnumpy配列への変換\n",
        "X = [] # リスト\n",
        "Y = [] # リスト"
      ],
      "execution_count": 4,
      "outputs": []
    },
    {
      "cell_type": "code",
      "metadata": {
        "id": "lG5aL5QufNQE",
        "colab_type": "code",
        "colab": {}
      },
      "source": [
        "# アスペクト比を固定して、幅が指定した値になるようリサイズする。\n",
        "def scale_to_width(img, width):\n",
        "    height = round(img.height * width / img.width)\n",
        "    return img.resize((width, height))"
      ],
      "execution_count": 5,
      "outputs": []
    },
    {
      "cell_type": "code",
      "metadata": {
        "id": "M9ztK_CN5rmx",
        "colab_type": "code",
        "colab": {
          "base_uri": "https://localhost:8080/",
          "height": 88
        },
        "outputId": "1d1752b8-ca05-42f1-d0c7-9793d7ced6b4"
      },
      "source": [
        "for index, classlabel in enumerate(classes):\n",
        "    photos_dir = './food/' + classlabel  \n",
        "    files = glob.glob(photos_dir + '/*.jpg')\n",
        "    for i, file in enumerate(files):\n",
        "        image = Image.open(file)\n",
        "        image = image.convert('RGB')\n",
        "        # image = image.convert('RGB')の前にトリミングするとメモリオーバー、理由不明\n",
        "        image = crop_center(image, 800, 800) # resizeする時にアスペクト比を固定させるため、800*800の部分をトリミング\n",
        "        image = image.resize((image_size, image_size))\n",
        "        data = np.asarray(image, dtype=np.float32) / 255.0  # 正規化 # dtype=np.float32でサイズ縮小、MemoryError解消のため # 2020/7/7\n",
        "        X.append(data)\n",
        "        Y.append(index)\n",
        "\n",
        "X = np.array(X)\n",
        "Y = np.array(Y)\n"
      ],
      "execution_count": 6,
      "outputs": [
        {
          "output_type": "stream",
          "text": [
            "/usr/local/lib/python3.6/dist-packages/PIL/TiffImagePlugin.py:788: UserWarning: Corrupt EXIF data.  Expecting to read 4 bytes but only got 0. \n",
            "  warnings.warn(str(msg))\n",
            "/usr/local/lib/python3.6/dist-packages/PIL/TiffImagePlugin.py:788: UserWarning: Corrupt EXIF data.  Expecting to read 4 bytes but only got 2. \n",
            "  warnings.warn(str(msg))\n"
          ],
          "name": "stderr"
        }
      ]
    },
    {
      "cell_type": "code",
      "metadata": {
        "id": "miqHRSRfjjfv",
        "colab_type": "code",
        "colab": {
          "base_uri": "https://localhost:8080/",
          "height": 52
        },
        "outputId": "689310e9-aef0-4971-de8d-64f2d2bf69a6"
      },
      "source": [
        "print(X.nbytes)\n",
        "print(Y.nbytes)"
      ],
      "execution_count": 7,
      "outputs": [
        {
          "output_type": "stream",
          "text": [
            "4476600000\n",
            "132640\n"
          ],
          "name": "stdout"
        }
      ]
    },
    {
      "cell_type": "code",
      "metadata": {
        "id": "fXA0BRRojiG5",
        "colab_type": "code",
        "colab": {
          "base_uri": "https://localhost:8080/",
          "height": 52
        },
        "outputId": "ec7a4d8d-b602-4bf2-80f7-c1b4c32df082"
      },
      "source": [
        "X_train, X_test, y_train, y_test = model_selection.train_test_split(X, Y)\n",
        "# X_train, X_test = model_selection.train_test_split(X)\n",
        "print(X_train.nbytes)\n",
        "print(X_test.nbytes)"
      ],
      "execution_count": 8,
      "outputs": [
        {
          "output_type": "stream",
          "text": [
            "3357450000\n",
            "1119150000\n"
          ],
          "name": "stdout"
        }
      ]
    },
    {
      "cell_type": "code",
      "metadata": {
        "id": "fjXNBnqnt5RO",
        "colab_type": "code",
        "colab": {}
      },
      "source": [
        "# メモリ解放\n",
        "X = []"
      ],
      "execution_count": 9,
      "outputs": []
    },
    {
      "cell_type": "code",
      "metadata": {
        "id": "muGg-5xVuCJV",
        "colab_type": "code",
        "colab": {
          "base_uri": "https://localhost:8080/",
          "height": 35
        },
        "outputId": "ac10c7b2-77a9-4051-f29f-443d28d8c4b0"
      },
      "source": [
        "# y_train, y_test = model_selection.train_test_split(Y)\n",
        "# メモリ解放\n",
        "y = []\n",
        "print(y_train)"
      ],
      "execution_count": 10,
      "outputs": [
        {
          "output_type": "stream",
          "text": [
            "[24 13 40 ...  3 28 27]\n"
          ],
          "name": "stdout"
        }
      ]
    },
    {
      "cell_type": "code",
      "metadata": {
        "id": "jfm2p6pM5xLP",
        "colab_type": "code",
        "colab": {}
      },
      "source": [
        "from keras.models import Sequential\n",
        "from keras.layers import Dense, Dropout, Flatten\n",
        "from keras.layers import Conv2D, MaxPooling2D\n",
        "from keras.optimizers import SGD, Adam\n",
        "from keras.utils import np_utils\n",
        "\n",
        "y_train = np_utils.to_categorical(y_train, num_classes)\n",
        "y_test = np_utils.to_categorical(y_test, num_classes)"
      ],
      "execution_count": 11,
      "outputs": []
    },
    {
      "cell_type": "code",
      "metadata": {
        "id": "Zy2ZFe_PBcKU",
        "colab_type": "code",
        "colab": {
          "base_uri": "https://localhost:8080/",
          "height": 1000
        },
        "outputId": "0f64ae80-7a9a-4326-e1e8-5c351c1f642a"
      },
      "source": [
        "#　モデルの定義\n",
        "model = Sequential()\n",
        "model.add(Conv2D(32, (3,3), activation='relu', input_shape=(image_size, image_size, 3)))\n",
        "model.add(Conv2D(32, (3,3), activation='relu'))\n",
        "model.add(MaxPooling2D(pool_size=(2, 2)))\n",
        "model.add(Dropout(0.25))\n",
        "\n",
        "model.add(Conv2D(64, (3,3), activation='relu'))\n",
        "model.add(Conv2D(64, (3,3), activation='relu'))\n",
        "model.add(MaxPooling2D(pool_size=(2, 2)))\n",
        "model.add(Dropout(0.25))\n",
        "\n",
        "model.add(Flatten())\n",
        "model.add(Dense(256, activation='relu'))\n",
        "model.add(Dropout(0.5))\n",
        "model.add(Dense(num_classes, activation='softmax'))\n",
        "\n",
        "# opt = SGD(lr=0.01)\n",
        "opt = Adam()\n",
        "\n",
        "model.compile(loss='categorical_crossentropy', optimizer=opt, metrics=['accuracy'])\n",
        "\n",
        "model.fit(X_train, y_train, batch_size=32, epochs=100)\n",
        "\n",
        "score = model.evaluate(X_test, y_test, batch_size=32)\n",
        "\n",
        "print(score)\n",
        "model.save('./food_recognition_cnn_50.h5')"
      ],
      "execution_count": 12,
      "outputs": [
        {
          "output_type": "stream",
          "text": [
            "Epoch 1/100\n",
            "389/389 [==============================] - 19s 48ms/step - loss: 3.7017 - accuracy: 0.0692\n",
            "Epoch 2/100\n",
            "389/389 [==============================] - 18s 47ms/step - loss: 3.4476 - accuracy: 0.1098\n",
            "Epoch 3/100\n",
            "389/389 [==============================] - 19s 48ms/step - loss: 3.2271 - accuracy: 0.1587\n",
            "Epoch 4/100\n",
            "389/389 [==============================] - 19s 49ms/step - loss: 2.8985 - accuracy: 0.2335\n",
            "Epoch 5/100\n",
            "389/389 [==============================] - 19s 50ms/step - loss: 2.4751 - accuracy: 0.3313\n",
            "Epoch 6/100\n",
            "389/389 [==============================] - 20s 50ms/step - loss: 2.0497 - accuracy: 0.4281\n",
            "Epoch 7/100\n",
            "389/389 [==============================] - 19s 50ms/step - loss: 1.6953 - accuracy: 0.5166\n",
            "Epoch 8/100\n",
            "389/389 [==============================] - 19s 49ms/step - loss: 1.4394 - accuracy: 0.5729\n",
            "Epoch 9/100\n",
            "389/389 [==============================] - 19s 50ms/step - loss: 1.2309 - accuracy: 0.6347\n",
            "Epoch 10/100\n",
            "389/389 [==============================] - 19s 50ms/step - loss: 1.0608 - accuracy: 0.6782\n",
            "Epoch 11/100\n",
            "389/389 [==============================] - 19s 50ms/step - loss: 0.9381 - accuracy: 0.7119\n",
            "Epoch 12/100\n",
            "389/389 [==============================] - 19s 50ms/step - loss: 0.8463 - accuracy: 0.7374\n",
            "Epoch 13/100\n",
            "389/389 [==============================] - 19s 50ms/step - loss: 0.7594 - accuracy: 0.7624\n",
            "Epoch 14/100\n",
            "389/389 [==============================] - 19s 50ms/step - loss: 0.6984 - accuracy: 0.7808\n",
            "Epoch 15/100\n",
            "389/389 [==============================] - 19s 50ms/step - loss: 0.6537 - accuracy: 0.7957\n",
            "Epoch 16/100\n",
            "389/389 [==============================] - 19s 50ms/step - loss: 0.6069 - accuracy: 0.8076\n",
            "Epoch 17/100\n",
            "389/389 [==============================] - 19s 50ms/step - loss: 0.5906 - accuracy: 0.8170\n",
            "Epoch 18/100\n",
            "389/389 [==============================] - 19s 50ms/step - loss: 0.5443 - accuracy: 0.8261\n",
            "Epoch 19/100\n",
            "389/389 [==============================] - 19s 50ms/step - loss: 0.5212 - accuracy: 0.8333\n",
            "Epoch 20/100\n",
            "389/389 [==============================] - 19s 50ms/step - loss: 0.4963 - accuracy: 0.8405\n",
            "Epoch 21/100\n",
            "389/389 [==============================] - 19s 50ms/step - loss: 0.4912 - accuracy: 0.8467\n",
            "Epoch 22/100\n",
            "389/389 [==============================] - 19s 50ms/step - loss: 0.4610 - accuracy: 0.8486\n",
            "Epoch 23/100\n",
            "389/389 [==============================] - 20s 50ms/step - loss: 0.4337 - accuracy: 0.8621\n",
            "Epoch 24/100\n",
            "389/389 [==============================] - 19s 50ms/step - loss: 0.4215 - accuracy: 0.8656\n",
            "Epoch 25/100\n",
            "389/389 [==============================] - 20s 50ms/step - loss: 0.3966 - accuracy: 0.8760\n",
            "Epoch 26/100\n",
            "389/389 [==============================] - 19s 50ms/step - loss: 0.3818 - accuracy: 0.8803\n",
            "Epoch 27/100\n",
            "389/389 [==============================] - 19s 50ms/step - loss: 0.3785 - accuracy: 0.8807\n",
            "Epoch 28/100\n",
            "389/389 [==============================] - 19s 50ms/step - loss: 0.3645 - accuracy: 0.8840\n",
            "Epoch 29/100\n",
            "389/389 [==============================] - 19s 50ms/step - loss: 0.3466 - accuracy: 0.8915\n",
            "Epoch 30/100\n",
            "389/389 [==============================] - 19s 50ms/step - loss: 0.3468 - accuracy: 0.8891\n",
            "Epoch 31/100\n",
            "389/389 [==============================] - 19s 50ms/step - loss: 0.3207 - accuracy: 0.8992\n",
            "Epoch 32/100\n",
            "389/389 [==============================] - 19s 50ms/step - loss: 0.3290 - accuracy: 0.8943\n",
            "Epoch 33/100\n",
            "389/389 [==============================] - 19s 50ms/step - loss: 0.3254 - accuracy: 0.8975\n",
            "Epoch 34/100\n",
            "389/389 [==============================] - 19s 50ms/step - loss: 0.3309 - accuracy: 0.8973\n",
            "Epoch 35/100\n",
            "389/389 [==============================] - 19s 50ms/step - loss: 0.3014 - accuracy: 0.9035\n",
            "Epoch 36/100\n",
            "389/389 [==============================] - 19s 50ms/step - loss: 0.3060 - accuracy: 0.9042\n",
            "Epoch 37/100\n",
            "389/389 [==============================] - 19s 50ms/step - loss: 0.2990 - accuracy: 0.9038\n",
            "Epoch 38/100\n",
            "389/389 [==============================] - 19s 50ms/step - loss: 0.2860 - accuracy: 0.9080\n",
            "Epoch 39/100\n",
            "389/389 [==============================] - 20s 50ms/step - loss: 0.2813 - accuracy: 0.9110\n",
            "Epoch 40/100\n",
            "389/389 [==============================] - 19s 50ms/step - loss: 0.2687 - accuracy: 0.9148\n",
            "Epoch 41/100\n",
            "389/389 [==============================] - 20s 51ms/step - loss: 0.2649 - accuracy: 0.9172\n",
            "Epoch 42/100\n",
            "389/389 [==============================] - 19s 50ms/step - loss: 0.2712 - accuracy: 0.9128\n",
            "Epoch 43/100\n",
            "389/389 [==============================] - 19s 50ms/step - loss: 0.2406 - accuracy: 0.9249\n",
            "Epoch 44/100\n",
            "389/389 [==============================] - 20s 50ms/step - loss: 0.2576 - accuracy: 0.9181\n",
            "Epoch 45/100\n",
            "389/389 [==============================] - 20s 50ms/step - loss: 0.2423 - accuracy: 0.9264\n",
            "Epoch 46/100\n",
            "389/389 [==============================] - 20s 50ms/step - loss: 0.2459 - accuracy: 0.9212\n",
            "Epoch 47/100\n",
            "389/389 [==============================] - 19s 50ms/step - loss: 0.2392 - accuracy: 0.9236\n",
            "Epoch 48/100\n",
            "389/389 [==============================] - 19s 50ms/step - loss: 0.2523 - accuracy: 0.9186\n",
            "Epoch 49/100\n",
            "389/389 [==============================] - 19s 50ms/step - loss: 0.2413 - accuracy: 0.9248\n",
            "Epoch 50/100\n",
            "389/389 [==============================] - 19s 50ms/step - loss: 0.2312 - accuracy: 0.9253\n",
            "Epoch 51/100\n",
            "389/389 [==============================] - 19s 50ms/step - loss: 0.2421 - accuracy: 0.9251\n",
            "Epoch 52/100\n",
            "389/389 [==============================] - 19s 50ms/step - loss: 0.2062 - accuracy: 0.9353\n",
            "Epoch 53/100\n",
            "389/389 [==============================] - 19s 50ms/step - loss: 0.2116 - accuracy: 0.9324\n",
            "Epoch 54/100\n",
            "389/389 [==============================] - 19s 50ms/step - loss: 0.2166 - accuracy: 0.9292\n",
            "Epoch 55/100\n",
            "389/389 [==============================] - 19s 50ms/step - loss: 0.2101 - accuracy: 0.9341\n",
            "Epoch 56/100\n",
            "389/389 [==============================] - 19s 50ms/step - loss: 0.2004 - accuracy: 0.9349\n",
            "Epoch 57/100\n",
            "389/389 [==============================] - 20s 50ms/step - loss: 0.2011 - accuracy: 0.9353\n",
            "Epoch 58/100\n",
            "389/389 [==============================] - 19s 50ms/step - loss: 0.1899 - accuracy: 0.9407\n",
            "Epoch 59/100\n",
            "389/389 [==============================] - 19s 50ms/step - loss: 0.2055 - accuracy: 0.9347\n",
            "Epoch 60/100\n",
            "389/389 [==============================] - 19s 50ms/step - loss: 0.1889 - accuracy: 0.9396\n",
            "Epoch 61/100\n",
            "389/389 [==============================] - 19s 50ms/step - loss: 0.1984 - accuracy: 0.9370\n",
            "Epoch 62/100\n",
            "389/389 [==============================] - 19s 50ms/step - loss: 0.1874 - accuracy: 0.9402\n",
            "Epoch 63/100\n",
            "389/389 [==============================] - 19s 50ms/step - loss: 0.2149 - accuracy: 0.9326\n",
            "Epoch 64/100\n",
            "389/389 [==============================] - 19s 50ms/step - loss: 0.1953 - accuracy: 0.9366\n",
            "Epoch 65/100\n",
            "389/389 [==============================] - 19s 50ms/step - loss: 0.1885 - accuracy: 0.9401\n",
            "Epoch 66/100\n",
            "389/389 [==============================] - 19s 50ms/step - loss: 0.1755 - accuracy: 0.9445\n",
            "Epoch 67/100\n",
            "389/389 [==============================] - 19s 50ms/step - loss: 0.1897 - accuracy: 0.9402\n",
            "Epoch 68/100\n",
            "389/389 [==============================] - 19s 50ms/step - loss: 0.1811 - accuracy: 0.9427\n",
            "Epoch 69/100\n",
            "389/389 [==============================] - 19s 50ms/step - loss: 0.1948 - accuracy: 0.9393\n",
            "Epoch 70/100\n",
            "389/389 [==============================] - 19s 50ms/step - loss: 0.1679 - accuracy: 0.9469\n",
            "Epoch 71/100\n",
            "389/389 [==============================] - 19s 50ms/step - loss: 0.1776 - accuracy: 0.9437\n",
            "Epoch 72/100\n",
            "389/389 [==============================] - 19s 50ms/step - loss: 0.1736 - accuracy: 0.9472\n",
            "Epoch 73/100\n",
            "389/389 [==============================] - 20s 50ms/step - loss: 0.1687 - accuracy: 0.9464\n",
            "Epoch 74/100\n",
            "389/389 [==============================] - 19s 50ms/step - loss: 0.1650 - accuracy: 0.9474\n",
            "Epoch 75/100\n",
            "389/389 [==============================] - 19s 50ms/step - loss: 0.1562 - accuracy: 0.9503\n",
            "Epoch 76/100\n",
            "389/389 [==============================] - 19s 50ms/step - loss: 0.1623 - accuracy: 0.9485\n",
            "Epoch 77/100\n",
            "389/389 [==============================] - 19s 50ms/step - loss: 0.1663 - accuracy: 0.9498\n",
            "Epoch 78/100\n",
            "389/389 [==============================] - 19s 50ms/step - loss: 0.1698 - accuracy: 0.9472\n",
            "Epoch 79/100\n",
            "389/389 [==============================] - 19s 50ms/step - loss: 0.1577 - accuracy: 0.9495\n",
            "Epoch 80/100\n",
            "389/389 [==============================] - 19s 50ms/step - loss: 0.1547 - accuracy: 0.9522\n",
            "Epoch 81/100\n",
            "389/389 [==============================] - 19s 50ms/step - loss: 0.1467 - accuracy: 0.9539\n",
            "Epoch 82/100\n",
            "389/389 [==============================] - 19s 50ms/step - loss: 0.1478 - accuracy: 0.9526\n",
            "Epoch 83/100\n",
            "389/389 [==============================] - 19s 50ms/step - loss: 0.1639 - accuracy: 0.9510\n",
            "Epoch 84/100\n",
            "389/389 [==============================] - 19s 50ms/step - loss: 0.1431 - accuracy: 0.9539\n",
            "Epoch 85/100\n",
            "389/389 [==============================] - 19s 50ms/step - loss: 0.1527 - accuracy: 0.9509\n",
            "Epoch 86/100\n",
            "389/389 [==============================] - 19s 50ms/step - loss: 0.1574 - accuracy: 0.9517\n",
            "Epoch 87/100\n",
            "389/389 [==============================] - 19s 50ms/step - loss: 0.1439 - accuracy: 0.9558\n",
            "Epoch 88/100\n",
            "389/389 [==============================] - 19s 50ms/step - loss: 0.1474 - accuracy: 0.9550\n",
            "Epoch 89/100\n",
            "389/389 [==============================] - 19s 50ms/step - loss: 0.1465 - accuracy: 0.9527\n",
            "Epoch 90/100\n",
            "389/389 [==============================] - 19s 50ms/step - loss: 0.1476 - accuracy: 0.9538\n",
            "Epoch 91/100\n",
            "389/389 [==============================] - 19s 50ms/step - loss: 0.1465 - accuracy: 0.9538\n",
            "Epoch 92/100\n",
            "389/389 [==============================] - 19s 50ms/step - loss: 0.1361 - accuracy: 0.9563\n",
            "Epoch 93/100\n",
            "389/389 [==============================] - 19s 50ms/step - loss: 0.1331 - accuracy: 0.9585\n",
            "Epoch 94/100\n",
            "389/389 [==============================] - 19s 50ms/step - loss: 0.1282 - accuracy: 0.9595\n",
            "Epoch 95/100\n",
            "389/389 [==============================] - 19s 50ms/step - loss: 0.1450 - accuracy: 0.9555\n",
            "Epoch 96/100\n",
            "389/389 [==============================] - 19s 50ms/step - loss: 0.1267 - accuracy: 0.9586\n",
            "Epoch 97/100\n",
            "389/389 [==============================] - 19s 50ms/step - loss: 0.1444 - accuracy: 0.9554\n",
            "Epoch 98/100\n",
            "389/389 [==============================] - 19s 50ms/step - loss: 0.1362 - accuracy: 0.9580\n",
            "Epoch 99/100\n",
            "389/389 [==============================] - 19s 50ms/step - loss: 0.1427 - accuracy: 0.9567\n",
            "Epoch 100/100\n",
            "389/389 [==============================] - 19s 50ms/step - loss: 0.1292 - accuracy: 0.9599\n",
            "130/130 [==============================] - 2s 16ms/step - loss: 4.7363 - accuracy: 0.3945\n",
            "[4.736301898956299, 0.3944511413574219]\n"
          ],
          "name": "stdout"
        }
      ]
    },
    {
      "cell_type": "code",
      "metadata": {
        "id": "FBOC_QlWBve0",
        "colab_type": "code",
        "colab": {}
      },
      "source": [
        ""
      ],
      "execution_count": null,
      "outputs": []
    }
  ]
}