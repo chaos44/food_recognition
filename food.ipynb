{
  "nbformat": 4,
  "nbformat_minor": 0,
  "metadata": {
    "colab": {
      "name": "Untitled",
      "provenance": [],
      "authorship_tag": "ABX9TyNty80sInoury2fFi1brq65",
      "include_colab_link": true
    },
    "kernelspec": {
      "name": "python3",
      "display_name": "Python 3"
    },
    "accelerator": "GPU"
  },
  "cells": [
    {
      "cell_type": "markdown",
      "metadata": {
        "id": "view-in-github",
        "colab_type": "text"
      },
      "source": [
        "<a href=\"https://colab.research.google.com/github/chaos44/food_recognition/blob/master/food.ipynb\" target=\"_parent\"><img src=\"https://colab.research.google.com/assets/colab-badge.svg\" alt=\"Open In Colab\"/></a>"
      ]
    },
    {
      "cell_type": "code",
      "metadata": {
        "id": "ROQtwG2B2Bke",
        "colab_type": "code",
        "colab": {}
      },
      "source": [
        "!pip install -U -q PyDrive\n",
        "from pydrive.auth import GoogleAuth\n",
        "from pydrive.drive import GoogleDrive\n",
        "from google.colab import auth\n",
        "from oauth2client.client import GoogleCredentials# 1. Authenticate and create the PyDrive client.\n",
        "auth.authenticate_user()\n",
        "gauth = GoogleAuth()\n",
        "gauth.credentials = GoogleCredentials.get_application_default()\n",
        "drive = GoogleDrive(gauth)#2. Get the file\n",
        "d10 = drive.CreateFile({'id':'1jqXr5d-UAhOUaPIb-g7p_8xEW9XxHjUr'}) # replace the id with id of file you want to access\n",
        "d20 = drive.CreateFile({'id':'11LROdN-lQh0b25xoxNFBjSbYhQrEG5Dy'})\n",
        "d30 = drive.CreateFile({'id':'12uU6ocY9r6BfBk8fo4BQC8BVXjDDhCBb'})\n",
        "d40 = drive.CreateFile({'id':'1Hs5OVtYD8xDvLd7y6drDHUu4ErXjBvr_'})\n",
        "d50 = drive.CreateFile({'id':'19FaeD7fdFlqu0U8K2DIJevtp1tb4PbBe'})\n",
        "d10.GetContentFile('d10.zip')\n",
        "d20.GetContentFile('d20.zip')\n",
        "d30.GetContentFile('d30.zip')\n",
        "d40.GetContentFile('d40.zip')\n",
        "d50.GetContentFile('d50.zip')"
      ],
      "execution_count": 1,
      "outputs": []
    },
    {
      "cell_type": "code",
      "metadata": {
        "id": "sfEvmx7J2IlL",
        "colab_type": "code",
        "colab": {}
      },
      "source": [
        "!unzip d10.zip -d food\n",
        "!unzip d20.zip -d food\n",
        "!unzip d30.zip -d food\n",
        "!unzip d40.zip -d food\n",
        "!unzip d50.zip -d food"
      ],
      "execution_count": null,
      "outputs": []
    },
    {
      "cell_type": "code",
      "metadata": {
        "id": "UQH8nAry2dCT",
        "colab_type": "code",
        "colab": {}
      },
      "source": [
        "from PIL import Image\n",
        "import os, glob\n",
        "import numpy as np\n",
        "from sklearn import model_selection\n",
        "# from keras.preprocessing.image import ImageDataGenerator"
      ],
      "execution_count": 1,
      "outputs": []
    },
    {
      "cell_type": "code",
      "metadata": {
        "id": "Aa1mxJNLUGBy",
        "colab_type": "code",
        "colab": {}
      },
      "source": [
        "# 中心から任意のサイズをトリミング\n",
        "def crop_center(pil_img, crop_width, crop_height):\n",
        "    img_width, img_height = pil_img.size\n",
        "    return pil_img.crop(((img_width - crop_width) // 2,\n",
        "                         (img_height - crop_height) // 2,\n",
        "                         (img_width + crop_width) // 2,\n",
        "                         (img_height + crop_height) // 2))"
      ],
      "execution_count": 2,
      "outputs": []
    },
    {
      "cell_type": "code",
      "metadata": {
        "id": "fLimmj8g5njS",
        "colab_type": "code",
        "colab": {}
      },
      "source": [
        "# パラメータの初期化\n",
        "classes = ['beefdon', 'curry', 'fish', 'humberger', 'katsudon', 'ramen', 'seafooddon', 'soba', 'spaghetti', 'tempuradon'\n",
        "         , 'udon', 'lasagna', 'hamburger_steak', 'nikujaga', 'fried_rice', 'omelette', 'sukiyaki', 'sushi', 'gyoza', 'fried_chicken'\n",
        "         , 'okonomiyaki', 'croquette', 'pancake', 'french_toast', 'tart', 'taco_rice', 'doria', 'takoyaki', 'tapioca', 'yakisoba'\n",
        "         , 'ginger_pork', 'steak', 'roast_meat', 'bread', 'yakitori', 'rice_ball', 'goya_chanpuru', 'instant_noodle', 'meat_bun', 'gratin'\n",
        "         , 'mabo_tofu', 'tiramisu', 'cream_puff', 'eclair', 'hot_dog', 'potato_salad', 'stew', 'pizza', 'french_fry', 'avocado_salad']\n",
        "num_classes = len(classes)\n",
        "image_size = 150"
      ],
      "execution_count": 3,
      "outputs": []
    },
    {
      "cell_type": "code",
      "metadata": {
        "id": "nOTvEEbT5p69",
        "colab_type": "code",
        "colab": {}
      },
      "source": [
        "# 画像の読み込みとnumpy配列への変換\n",
        "X = [] # リスト\n",
        "Y = [] # リスト"
      ],
      "execution_count": 4,
      "outputs": []
    },
    {
      "cell_type": "code",
      "metadata": {
        "id": "M9ztK_CN5rmx",
        "colab_type": "code",
        "colab": {
          "base_uri": "https://localhost:8080/",
          "height": 108
        },
        "outputId": "a9aec687-3d23-4ad7-a9de-e00275dd46e4"
      },
      "source": [
        "for index, classlabel in enumerate(classes):\n",
        "    photos_dir = './food/' + classlabel  \n",
        "    files = glob.glob(photos_dir + '/*.jpg')\n",
        "    for i, file in enumerate(files):\n",
        "        image = Image.open(file)\n",
        "        image = image.convert('RGB')\n",
        "        # image = image.convert('RGB')の前にトリミングするとメモリオーバー、理由不明\n",
        "        # image = crop_center(image, 300, 300) # (500, 500)でメモリオーバー\n",
        "        image = image.resize((image_size, image_size))\n",
        "        data = np.asarray(image, dtype=np.float32) / 255.0  # 正規化 # dtype=np.float32でサイズ縮小、MemoryError解消のため # 2020/7/7\n",
        "        X.append(data)\n",
        "        Y.append(index)\n",
        "\n",
        "X = np.array(X)\n",
        "Y = np.array(Y)\n"
      ],
      "execution_count": 5,
      "outputs": [
        {
          "output_type": "stream",
          "text": [
            "/usr/local/lib/python3.6/dist-packages/PIL/TiffImagePlugin.py:788: UserWarning: Corrupt EXIF data.  Expecting to read 4 bytes but only got 2. \n",
            "  warnings.warn(str(msg))\n",
            "/usr/local/lib/python3.6/dist-packages/PIL/TiffImagePlugin.py:788: UserWarning: Corrupt EXIF data.  Expecting to read 4 bytes but only got 0. \n",
            "  warnings.warn(str(msg))\n"
          ],
          "name": "stderr"
        }
      ]
    },
    {
      "cell_type": "code",
      "metadata": {
        "id": "miqHRSRfjjfv",
        "colab_type": "code",
        "colab": {
          "base_uri": "https://localhost:8080/",
          "height": 52
        },
        "outputId": "74ce7348-acb7-41f3-ec2e-6a2bafb7fb5d"
      },
      "source": [
        "print(X.nbytes)\n",
        "print(Y.nbytes)"
      ],
      "execution_count": 6,
      "outputs": [
        {
          "output_type": "stream",
          "text": [
            "4476600000\n",
            "132640\n"
          ],
          "name": "stdout"
        }
      ]
    },
    {
      "cell_type": "code",
      "metadata": {
        "id": "fXA0BRRojiG5",
        "colab_type": "code",
        "colab": {
          "base_uri": "https://localhost:8080/",
          "height": 52
        },
        "outputId": "d0c97059-0bfc-4daf-c177-cbf126888e30"
      },
      "source": [
        "X_train, X_test, y_train, y_test = model_selection.train_test_split(X, Y)\n",
        "# X_train, X_test = model_selection.train_test_split(X)\n",
        "print(X_train.nbytes)\n",
        "print(X_test.nbytes)"
      ],
      "execution_count": 7,
      "outputs": [
        {
          "output_type": "stream",
          "text": [
            "3357450000\n",
            "1119150000\n"
          ],
          "name": "stdout"
        }
      ]
    },
    {
      "cell_type": "code",
      "metadata": {
        "id": "fjXNBnqnt5RO",
        "colab_type": "code",
        "colab": {}
      },
      "source": [
        "# メモリ解放\n",
        "X = []"
      ],
      "execution_count": 8,
      "outputs": []
    },
    {
      "cell_type": "code",
      "metadata": {
        "id": "muGg-5xVuCJV",
        "colab_type": "code",
        "colab": {
          "base_uri": "https://localhost:8080/",
          "height": 35
        },
        "outputId": "67e750da-ad98-4070-e1bd-10f57718bda2"
      },
      "source": [
        "# y_train, y_test = model_selection.train_test_split(Y)\n",
        "# メモリ解放\n",
        "y = []\n",
        "print(y_train)"
      ],
      "execution_count": 9,
      "outputs": [
        {
          "output_type": "stream",
          "text": [
            "[10 26 42 ... 43 10 26]\n"
          ],
          "name": "stdout"
        }
      ]
    },
    {
      "cell_type": "code",
      "metadata": {
        "id": "jfm2p6pM5xLP",
        "colab_type": "code",
        "colab": {}
      },
      "source": [
        "from keras.models import Sequential\n",
        "from keras.layers import Dense, Dropout, Flatten\n",
        "from keras.layers import Conv2D, MaxPooling2D\n",
        "from keras.optimizers import SGD, Adam\n",
        "from keras.utils import np_utils\n",
        "\n",
        "y_train = np_utils.to_categorical(y_train, num_classes)\n",
        "y_test = np_utils.to_categorical(y_test, num_classes)"
      ],
      "execution_count": 10,
      "outputs": []
    },
    {
      "cell_type": "code",
      "metadata": {
        "id": "Zy2ZFe_PBcKU",
        "colab_type": "code",
        "colab": {
          "base_uri": "https://localhost:8080/",
          "height": 1000
        },
        "outputId": "5ac4e57e-bca6-481c-9cbd-ec92abbb6e73"
      },
      "source": [
        "#　モデルの定義\n",
        "model = Sequential()\n",
        "model.add(Conv2D(32, (3,3), activation='relu', input_shape=(image_size, image_size, 3)))\n",
        "model.add(Conv2D(32, (3,3), activation='relu'))\n",
        "model.add(MaxPooling2D(pool_size=(2, 2)))\n",
        "model.add(Dropout(0.25))\n",
        "\n",
        "model.add(Conv2D(64, (3,3), activation='relu'))\n",
        "model.add(Conv2D(64, (3,3), activation='relu'))\n",
        "model.add(MaxPooling2D(pool_size=(2, 2)))\n",
        "model.add(Dropout(0.25))\n",
        "\n",
        "model.add(Flatten())\n",
        "model.add(Dense(256, activation='relu'))\n",
        "model.add(Dropout(0.5))\n",
        "model.add(Dense(num_classes, activation='softmax'))\n",
        "\n",
        "# opt = SGD(lr=0.01)\n",
        "opt = Adam()\n",
        "\n",
        "model.compile(loss='categorical_crossentropy', optimizer=opt, metrics=['accuracy'])\n",
        "\n",
        "model.fit(X_train, y_train, batch_size=32, epochs=100)\n",
        "\n",
        "score = model.evaluate(X_test, y_test, batch_size=32)\n",
        "\n",
        "print(score)\n",
        "model.save('./food_recognition_cnn_50.h5')"
      ],
      "execution_count": 11,
      "outputs": [
        {
          "output_type": "stream",
          "text": [
            "Epoch 1/100\n",
            "389/389 [==============================] - 36s 93ms/step - loss: 3.8921 - accuracy: 0.0401\n",
            "Epoch 2/100\n",
            "389/389 [==============================] - 36s 92ms/step - loss: 3.8118 - accuracy: 0.0573\n",
            "Epoch 3/100\n",
            "389/389 [==============================] - 36s 92ms/step - loss: 3.5624 - accuracy: 0.1033\n",
            "Epoch 4/100\n",
            "389/389 [==============================] - 36s 92ms/step - loss: 3.1844 - accuracy: 0.1773\n",
            "Epoch 5/100\n",
            "389/389 [==============================] - 36s 92ms/step - loss: 2.7327 - accuracy: 0.2774\n",
            "Epoch 6/100\n",
            "389/389 [==============================] - 36s 92ms/step - loss: 2.2175 - accuracy: 0.4067\n",
            "Epoch 7/100\n",
            "389/389 [==============================] - 36s 92ms/step - loss: 1.7297 - accuracy: 0.5113\n",
            "Epoch 8/100\n",
            "389/389 [==============================] - 36s 93ms/step - loss: 1.3498 - accuracy: 0.6159\n",
            "Epoch 9/100\n",
            "389/389 [==============================] - 36s 92ms/step - loss: 1.0542 - accuracy: 0.6930\n",
            "Epoch 10/100\n",
            "389/389 [==============================] - 36s 92ms/step - loss: 0.8680 - accuracy: 0.7419\n",
            "Epoch 11/100\n",
            "389/389 [==============================] - 36s 92ms/step - loss: 0.7432 - accuracy: 0.7817\n",
            "Epoch 12/100\n",
            "389/389 [==============================] - 36s 93ms/step - loss: 0.6538 - accuracy: 0.8020\n",
            "Epoch 13/100\n",
            "389/389 [==============================] - 36s 92ms/step - loss: 0.5741 - accuracy: 0.8251\n",
            "Epoch 14/100\n",
            "389/389 [==============================] - 36s 92ms/step - loss: 0.4870 - accuracy: 0.8448\n",
            "Epoch 15/100\n",
            "389/389 [==============================] - 36s 92ms/step - loss: 0.4773 - accuracy: 0.8548\n",
            "Epoch 16/100\n",
            "389/389 [==============================] - 36s 92ms/step - loss: 0.4442 - accuracy: 0.8583\n",
            "Epoch 17/100\n",
            "389/389 [==============================] - 36s 92ms/step - loss: 0.4119 - accuracy: 0.8692\n",
            "Epoch 18/100\n",
            "389/389 [==============================] - 36s 92ms/step - loss: 0.3790 - accuracy: 0.8815\n",
            "Epoch 19/100\n",
            "389/389 [==============================] - 36s 92ms/step - loss: 0.3693 - accuracy: 0.8874\n",
            "Epoch 20/100\n",
            "389/389 [==============================] - 36s 92ms/step - loss: 0.3471 - accuracy: 0.8909\n",
            "Epoch 21/100\n",
            "389/389 [==============================] - 36s 92ms/step - loss: 0.3239 - accuracy: 0.9008\n",
            "Epoch 22/100\n",
            "389/389 [==============================] - 36s 92ms/step - loss: 0.3199 - accuracy: 0.9024\n",
            "Epoch 23/100\n",
            "389/389 [==============================] - 36s 92ms/step - loss: 0.3127 - accuracy: 0.9022\n",
            "Epoch 24/100\n",
            "389/389 [==============================] - 36s 93ms/step - loss: 0.2914 - accuracy: 0.9109\n",
            "Epoch 25/100\n",
            "389/389 [==============================] - 36s 93ms/step - loss: 0.2875 - accuracy: 0.9086\n",
            "Epoch 26/100\n",
            "389/389 [==============================] - 36s 93ms/step - loss: 0.2784 - accuracy: 0.9136\n",
            "Epoch 27/100\n",
            "389/389 [==============================] - 36s 93ms/step - loss: 0.2535 - accuracy: 0.9242\n",
            "Epoch 28/100\n",
            "389/389 [==============================] - 36s 93ms/step - loss: 0.2419 - accuracy: 0.9215\n",
            "Epoch 29/100\n",
            "389/389 [==============================] - 36s 93ms/step - loss: 0.2470 - accuracy: 0.9226\n",
            "Epoch 30/100\n",
            "389/389 [==============================] - 36s 92ms/step - loss: 0.2464 - accuracy: 0.9261\n",
            "Epoch 31/100\n",
            "389/389 [==============================] - 36s 92ms/step - loss: 0.2384 - accuracy: 0.9251\n",
            "Epoch 32/100\n",
            "389/389 [==============================] - 36s 92ms/step - loss: 0.2345 - accuracy: 0.9255\n",
            "Epoch 33/100\n",
            "389/389 [==============================] - 36s 92ms/step - loss: 0.2160 - accuracy: 0.9311\n",
            "Epoch 34/100\n",
            "389/389 [==============================] - 36s 92ms/step - loss: 0.2237 - accuracy: 0.9334\n",
            "Epoch 35/100\n",
            "389/389 [==============================] - 36s 92ms/step - loss: 0.2154 - accuracy: 0.9307\n",
            "Epoch 36/100\n",
            "389/389 [==============================] - 36s 92ms/step - loss: 0.2083 - accuracy: 0.9333\n",
            "Epoch 37/100\n",
            "389/389 [==============================] - 36s 92ms/step - loss: 0.1919 - accuracy: 0.9415\n",
            "Epoch 38/100\n",
            "389/389 [==============================] - 36s 92ms/step - loss: 0.2010 - accuracy: 0.9359\n",
            "Epoch 39/100\n",
            "389/389 [==============================] - 36s 92ms/step - loss: 0.1977 - accuracy: 0.9374\n",
            "Epoch 40/100\n",
            "389/389 [==============================] - 36s 92ms/step - loss: 0.1918 - accuracy: 0.9397\n",
            "Epoch 41/100\n",
            "389/389 [==============================] - 36s 92ms/step - loss: 0.1753 - accuracy: 0.9437\n",
            "Epoch 42/100\n",
            "389/389 [==============================] - 36s 92ms/step - loss: 0.1987 - accuracy: 0.9357\n",
            "Epoch 43/100\n",
            "389/389 [==============================] - 36s 92ms/step - loss: 0.1906 - accuracy: 0.9404\n",
            "Epoch 44/100\n",
            "389/389 [==============================] - 36s 92ms/step - loss: 0.1706 - accuracy: 0.9472\n",
            "Epoch 45/100\n",
            "389/389 [==============================] - 36s 92ms/step - loss: 0.1720 - accuracy: 0.9478\n",
            "Epoch 46/100\n",
            "389/389 [==============================] - 36s 92ms/step - loss: 0.1741 - accuracy: 0.9460\n",
            "Epoch 47/100\n",
            "389/389 [==============================] - 36s 92ms/step - loss: 0.1658 - accuracy: 0.9489\n",
            "Epoch 48/100\n",
            "389/389 [==============================] - 36s 93ms/step - loss: 0.1652 - accuracy: 0.9471\n",
            "Epoch 49/100\n",
            "389/389 [==============================] - 36s 92ms/step - loss: 0.1695 - accuracy: 0.9468\n",
            "Epoch 50/100\n",
            "389/389 [==============================] - 36s 93ms/step - loss: 0.1581 - accuracy: 0.9498\n",
            "Epoch 51/100\n",
            "389/389 [==============================] - 36s 93ms/step - loss: 0.1637 - accuracy: 0.9477\n",
            "Epoch 52/100\n",
            "389/389 [==============================] - 36s 92ms/step - loss: 0.1579 - accuracy: 0.9522\n",
            "Epoch 53/100\n",
            "389/389 [==============================] - 36s 93ms/step - loss: 0.1543 - accuracy: 0.9500\n",
            "Epoch 54/100\n",
            "389/389 [==============================] - 36s 93ms/step - loss: 0.1523 - accuracy: 0.9513\n",
            "Epoch 55/100\n",
            "389/389 [==============================] - 36s 93ms/step - loss: 0.1575 - accuracy: 0.9517\n",
            "Epoch 56/100\n",
            "389/389 [==============================] - 36s 92ms/step - loss: 0.1437 - accuracy: 0.9542\n",
            "Epoch 57/100\n",
            "389/389 [==============================] - 36s 92ms/step - loss: 0.1520 - accuracy: 0.9545\n",
            "Epoch 58/100\n",
            "389/389 [==============================] - 36s 92ms/step - loss: 0.1582 - accuracy: 0.9503\n",
            "Epoch 59/100\n",
            "389/389 [==============================] - 36s 93ms/step - loss: 0.1488 - accuracy: 0.9539\n",
            "Epoch 60/100\n",
            "389/389 [==============================] - 36s 92ms/step - loss: 0.1401 - accuracy: 0.9587\n",
            "Epoch 61/100\n",
            "389/389 [==============================] - 36s 93ms/step - loss: 0.1478 - accuracy: 0.9545\n",
            "Epoch 62/100\n",
            "389/389 [==============================] - 36s 93ms/step - loss: 0.1468 - accuracy: 0.9530\n",
            "Epoch 63/100\n",
            "389/389 [==============================] - 36s 93ms/step - loss: 0.1443 - accuracy: 0.9564\n",
            "Epoch 64/100\n",
            "389/389 [==============================] - 36s 92ms/step - loss: 0.1303 - accuracy: 0.9573\n",
            "Epoch 65/100\n",
            "389/389 [==============================] - 36s 92ms/step - loss: 0.1379 - accuracy: 0.9561\n",
            "Epoch 66/100\n",
            "389/389 [==============================] - 36s 92ms/step - loss: 0.1326 - accuracy: 0.9591\n",
            "Epoch 67/100\n",
            "389/389 [==============================] - 36s 93ms/step - loss: 0.1192 - accuracy: 0.9613\n",
            "Epoch 68/100\n",
            "389/389 [==============================] - 36s 93ms/step - loss: 0.1265 - accuracy: 0.9593\n",
            "Epoch 69/100\n",
            "389/389 [==============================] - 36s 92ms/step - loss: 0.1236 - accuracy: 0.9601\n",
            "Epoch 70/100\n",
            "389/389 [==============================] - 36s 92ms/step - loss: 0.1239 - accuracy: 0.9617\n",
            "Epoch 71/100\n",
            "389/389 [==============================] - 36s 93ms/step - loss: 0.1185 - accuracy: 0.9632\n",
            "Epoch 72/100\n",
            "389/389 [==============================] - 36s 92ms/step - loss: 0.1303 - accuracy: 0.9591\n",
            "Epoch 73/100\n",
            "389/389 [==============================] - 36s 92ms/step - loss: 0.1214 - accuracy: 0.9626\n",
            "Epoch 74/100\n",
            "389/389 [==============================] - 36s 92ms/step - loss: 0.1209 - accuracy: 0.9617\n",
            "Epoch 75/100\n",
            "389/389 [==============================] - 36s 92ms/step - loss: 0.1205 - accuracy: 0.9607\n",
            "Epoch 76/100\n",
            "389/389 [==============================] - 36s 92ms/step - loss: 0.1199 - accuracy: 0.9637\n",
            "Epoch 77/100\n",
            "389/389 [==============================] - 36s 92ms/step - loss: 0.1135 - accuracy: 0.9647\n",
            "Epoch 78/100\n",
            "389/389 [==============================] - 36s 92ms/step - loss: 0.1158 - accuracy: 0.9652\n",
            "Epoch 79/100\n",
            "389/389 [==============================] - 36s 92ms/step - loss: 0.1131 - accuracy: 0.9644\n",
            "Epoch 80/100\n",
            "389/389 [==============================] - 36s 92ms/step - loss: 0.1113 - accuracy: 0.9662\n",
            "Epoch 81/100\n",
            "389/389 [==============================] - 36s 92ms/step - loss: 0.1026 - accuracy: 0.9686\n",
            "Epoch 82/100\n",
            "389/389 [==============================] - 36s 92ms/step - loss: 0.1116 - accuracy: 0.9653\n",
            "Epoch 83/100\n",
            "389/389 [==============================] - 36s 93ms/step - loss: 0.1069 - accuracy: 0.9659\n",
            "Epoch 84/100\n",
            "389/389 [==============================] - 36s 92ms/step - loss: 0.1154 - accuracy: 0.9624\n",
            "Epoch 85/100\n",
            "389/389 [==============================] - 36s 93ms/step - loss: 0.1023 - accuracy: 0.9679\n",
            "Epoch 86/100\n",
            "389/389 [==============================] - 36s 92ms/step - loss: 0.1127 - accuracy: 0.9658\n",
            "Epoch 87/100\n",
            "389/389 [==============================] - 36s 92ms/step - loss: 0.1023 - accuracy: 0.9693\n",
            "Epoch 88/100\n",
            "389/389 [==============================] - 36s 93ms/step - loss: 0.1067 - accuracy: 0.9670\n",
            "Epoch 89/100\n",
            "389/389 [==============================] - 36s 92ms/step - loss: 0.0993 - accuracy: 0.9685\n",
            "Epoch 90/100\n",
            "389/389 [==============================] - 36s 92ms/step - loss: 0.1054 - accuracy: 0.9672\n",
            "Epoch 91/100\n",
            "389/389 [==============================] - 36s 92ms/step - loss: 0.1094 - accuracy: 0.9670\n",
            "Epoch 92/100\n",
            "389/389 [==============================] - 36s 92ms/step - loss: 0.1086 - accuracy: 0.9665\n",
            "Epoch 93/100\n",
            "389/389 [==============================] - 36s 92ms/step - loss: 0.1009 - accuracy: 0.9682\n",
            "Epoch 94/100\n",
            "389/389 [==============================] - 36s 92ms/step - loss: 0.0945 - accuracy: 0.9705\n",
            "Epoch 95/100\n",
            "389/389 [==============================] - 36s 92ms/step - loss: 0.0996 - accuracy: 0.9701\n",
            "Epoch 96/100\n",
            "389/389 [==============================] - 36s 92ms/step - loss: 0.0937 - accuracy: 0.9696\n",
            "Epoch 97/100\n",
            "389/389 [==============================] - 36s 92ms/step - loss: 0.0967 - accuracy: 0.9705\n",
            "Epoch 98/100\n",
            "389/389 [==============================] - 36s 92ms/step - loss: 0.1022 - accuracy: 0.9686\n",
            "Epoch 99/100\n",
            "389/389 [==============================] - 36s 92ms/step - loss: 0.1035 - accuracy: 0.9685\n",
            "Epoch 100/100\n",
            "389/389 [==============================] - 37s 94ms/step - loss: 0.0947 - accuracy: 0.9696\n",
            "130/130 [==============================] - 4s 31ms/step - loss: 5.1185 - accuracy: 0.3802\n",
            "[5.118456840515137, 0.38021713495254517]\n"
          ],
          "name": "stdout"
        }
      ]
    },
    {
      "cell_type": "code",
      "metadata": {
        "id": "FBOC_QlWBve0",
        "colab_type": "code",
        "colab": {}
      },
      "source": [
        ""
      ],
      "execution_count": null,
      "outputs": []
    }
  ]
}