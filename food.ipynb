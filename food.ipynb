{
  "nbformat": 4,
  "nbformat_minor": 0,
  "metadata": {
    "colab": {
      "name": "Untitled",
      "provenance": [],
      "authorship_tag": "ABX9TyMh0g+b2YZgf/98fBfTMjIm",
      "include_colab_link": true
    },
    "kernelspec": {
      "name": "python3",
      "display_name": "Python 3"
    },
    "accelerator": "GPU"
  },
  "cells": [
    {
      "cell_type": "markdown",
      "metadata": {
        "id": "view-in-github",
        "colab_type": "text"
      },
      "source": [
        "<a href=\"https://colab.research.google.com/github/chaos44/food_recognition/blob/master/food.ipynb\" target=\"_parent\"><img src=\"https://colab.research.google.com/assets/colab-badge.svg\" alt=\"Open In Colab\"/></a>"
      ]
    },
    {
      "cell_type": "code",
      "metadata": {
        "id": "ROQtwG2B2Bke",
        "colab_type": "code",
        "colab": {}
      },
      "source": [
        "!pip install -U -q PyDrive\n",
        "from pydrive.auth import GoogleAuth\n",
        "from pydrive.drive import GoogleDrive\n",
        "from google.colab import auth\n",
        "from oauth2client.client import GoogleCredentials# 1. Authenticate and create the PyDrive client.\n",
        "auth.authenticate_user()\n",
        "gauth = GoogleAuth()\n",
        "gauth.credentials = GoogleCredentials.get_application_default()\n",
        "drive = GoogleDrive(gauth)#2. Get the file\n",
        "d10 = drive.CreateFile({'id':'1jqXr5d-UAhOUaPIb-g7p_8xEW9XxHjUr'}) # replace the id with id of file you want to access\n",
        "d20 = drive.CreateFile({'id':'11LROdN-lQh0b25xoxNFBjSbYhQrEG5Dy'})\n",
        "d30 = drive.CreateFile({'id':'12uU6ocY9r6BfBk8fo4BQC8BVXjDDhCBb'})\n",
        "d40 = drive.CreateFile({'id':'1Hs5OVtYD8xDvLd7y6drDHUu4ErXjBvr_'})\n",
        "d50 = drive.CreateFile({'id':'19FaeD7fdFlqu0U8K2DIJevtp1tb4PbBe'})\n",
        "d10.GetContentFile('d10.zip')\n",
        "d20.GetContentFile('d20.zip')\n",
        "d30.GetContentFile('d30.zip')\n",
        "d40.GetContentFile('d40.zip')\n",
        "d50.GetContentFile('d50.zip')"
      ],
      "execution_count": 1,
      "outputs": []
    },
    {
      "cell_type": "code",
      "metadata": {
        "id": "sfEvmx7J2IlL",
        "colab_type": "code",
        "colab": {}
      },
      "source": [
        "!unzip d10.zip -d food\n",
        "!unzip d20.zip -d food\n",
        "!unzip d30.zip -d food\n",
        "!unzip d40.zip -d food\n",
        "!unzip d50.zip -d food"
      ],
      "execution_count": null,
      "outputs": []
    },
    {
      "cell_type": "code",
      "metadata": {
        "id": "UQH8nAry2dCT",
        "colab_type": "code",
        "colab": {}
      },
      "source": [
        "from PIL import Image\n",
        "import os, glob\n",
        "import numpy as np\n",
        "from sklearn import model_selection\n",
        "# from keras.preprocessing.image import ImageDataGenerator"
      ],
      "execution_count": 1,
      "outputs": []
    },
    {
      "cell_type": "code",
      "metadata": {
        "id": "Aa1mxJNLUGBy",
        "colab_type": "code",
        "colab": {}
      },
      "source": [
        "# 中心から任意のサイズをトリミング\n",
        "def crop_center(pil_img, crop_width, crop_height):\n",
        "    img_width, img_height = pil_img.size\n",
        "    return pil_img.crop(((img_width - crop_width) // 2,\n",
        "                         (img_height - crop_height) // 2,\n",
        "                         (img_width + crop_width) // 2,\n",
        "                         (img_height + crop_height) // 2))"
      ],
      "execution_count": 2,
      "outputs": []
    },
    {
      "cell_type": "code",
      "metadata": {
        "id": "fLimmj8g5njS",
        "colab_type": "code",
        "colab": {}
      },
      "source": [
        "# パラメータの初期化\n",
        "classes = ['beefdon', 'curry', 'fish', 'humberger', 'katsudon', 'ramen', 'seafooddon', 'soba', 'spaghetti', 'tempuradon'\n",
        "         , 'udon', 'lasagna', 'hamburger_steak', 'nikujaga', 'fried_rice', 'omelette', 'sukiyaki', 'sushi', 'gyoza', 'fried_chicken'\n",
        "         , 'okonomiyaki', 'croquette', 'pancake', 'french_toast', 'tart', 'taco_rice', 'doria', 'takoyaki', 'tapioca', 'yakisoba'\n",
        "         , 'ginger_pork', 'steak', 'roast_meat', 'bread', 'yakitori', 'rice_ball', 'goya_chanpuru', 'instant_noodle', 'meat_bun', 'gratin'\n",
        "         , 'mabo_tofu', 'tiramisu', 'cream_puff', 'eclair', 'hot_dog', 'potato_salad', 'stew', 'pizza', 'french_fry', 'avocado_salad']\n",
        "num_classes = len(classes)\n",
        "image_size = 150"
      ],
      "execution_count": 3,
      "outputs": []
    },
    {
      "cell_type": "code",
      "metadata": {
        "id": "nOTvEEbT5p69",
        "colab_type": "code",
        "colab": {}
      },
      "source": [
        "# 画像の読み込みとnumpy配列への変換\n",
        "X = [] # リスト\n",
        "Y = [] # リスト"
      ],
      "execution_count": 4,
      "outputs": []
    },
    {
      "cell_type": "code",
      "metadata": {
        "id": "M9ztK_CN5rmx",
        "colab_type": "code",
        "colab": {
          "base_uri": "https://localhost:8080/",
          "height": 108
        },
        "outputId": "78d4d2c6-6ba8-4cb3-cfbd-8a73ba00519f"
      },
      "source": [
        "for index, classlabel in enumerate(classes):\n",
        "    photos_dir = './food/' + classlabel  \n",
        "    files = glob.glob(photos_dir + '/*.jpg')\n",
        "    for i, file in enumerate(files):\n",
        "        image = Image.open(file)\n",
        "        image = image.convert('RGB')\n",
        "        # image = image.convert('RGB')の前にトリミングするとメモリオーバー、理由不明\n",
        "        image = crop_center(image, 500, 500) # (500, 500)でメモリオーバー\n",
        "        image = image.resize((image_size, image_size))\n",
        "        data = np.asarray(image, dtype=np.float32) / 255.0  # 正規化 # dtype=np.float32でサイズ縮小、MemoryError解消のため # 2020/7/7\n",
        "        X.append(data)\n",
        "        Y.append(index)\n",
        "\n",
        "X = np.array(X)\n",
        "Y = np.array(Y)\n"
      ],
      "execution_count": 5,
      "outputs": [
        {
          "output_type": "stream",
          "text": [
            "/usr/local/lib/python3.6/dist-packages/PIL/TiffImagePlugin.py:788: UserWarning: Corrupt EXIF data.  Expecting to read 4 bytes but only got 2. \n",
            "  warnings.warn(str(msg))\n",
            "/usr/local/lib/python3.6/dist-packages/PIL/TiffImagePlugin.py:788: UserWarning: Corrupt EXIF data.  Expecting to read 4 bytes but only got 0. \n",
            "  warnings.warn(str(msg))\n"
          ],
          "name": "stderr"
        }
      ]
    },
    {
      "cell_type": "code",
      "metadata": {
        "id": "miqHRSRfjjfv",
        "colab_type": "code",
        "colab": {
          "base_uri": "https://localhost:8080/",
          "height": 52
        },
        "outputId": "77fd264f-b769-420b-c620-d34b48329030"
      },
      "source": [
        "print(X.nbytes)\n",
        "print(Y.nbytes)"
      ],
      "execution_count": 6,
      "outputs": [
        {
          "output_type": "stream",
          "text": [
            "4476600000\n",
            "132640\n"
          ],
          "name": "stdout"
        }
      ]
    },
    {
      "cell_type": "code",
      "metadata": {
        "id": "fXA0BRRojiG5",
        "colab_type": "code",
        "colab": {
          "base_uri": "https://localhost:8080/",
          "height": 52
        },
        "outputId": "1b23394a-95d3-460c-8136-36f300a5da8d"
      },
      "source": [
        "X_train, X_test, y_train, y_test = model_selection.train_test_split(X, Y)\n",
        "# X_train, X_test = model_selection.train_test_split(X)\n",
        "print(X_train.nbytes)\n",
        "print(X_test.nbytes)"
      ],
      "execution_count": 7,
      "outputs": [
        {
          "output_type": "stream",
          "text": [
            "3357450000\n",
            "1119150000\n"
          ],
          "name": "stdout"
        }
      ]
    },
    {
      "cell_type": "code",
      "metadata": {
        "id": "fjXNBnqnt5RO",
        "colab_type": "code",
        "colab": {}
      },
      "source": [
        "# メモリ解放\n",
        "X = []"
      ],
      "execution_count": 8,
      "outputs": []
    },
    {
      "cell_type": "code",
      "metadata": {
        "id": "muGg-5xVuCJV",
        "colab_type": "code",
        "colab": {
          "base_uri": "https://localhost:8080/",
          "height": 35
        },
        "outputId": "6974f2d6-50b2-4eba-e340-de7a5d4c9c25"
      },
      "source": [
        "# y_train, y_test = model_selection.train_test_split(Y)\n",
        "# メモリ解放\n",
        "y = []\n",
        "print(y_train)"
      ],
      "execution_count": 9,
      "outputs": [
        {
          "output_type": "stream",
          "text": [
            "[ 9 46  9 ...  2 10 41]\n"
          ],
          "name": "stdout"
        }
      ]
    },
    {
      "cell_type": "code",
      "metadata": {
        "id": "jfm2p6pM5xLP",
        "colab_type": "code",
        "colab": {}
      },
      "source": [
        "from keras.models import Sequential\n",
        "from keras.layers import Dense, Dropout, Flatten\n",
        "from keras.layers import Conv2D, MaxPooling2D\n",
        "from keras.optimizers import SGD, Adam\n",
        "from keras.utils import np_utils\n",
        "\n",
        "y_train = np_utils.to_categorical(y_train, num_classes)\n",
        "y_test = np_utils.to_categorical(y_test, num_classes)"
      ],
      "execution_count": 10,
      "outputs": []
    },
    {
      "cell_type": "code",
      "metadata": {
        "id": "Zy2ZFe_PBcKU",
        "colab_type": "code",
        "colab": {
          "base_uri": "https://localhost:8080/",
          "height": 1000
        },
        "outputId": "ff1c4824-99a3-47a8-f9c4-071671c78ede"
      },
      "source": [
        "#　モデルの定義\n",
        "model = Sequential()\n",
        "model.add(Conv2D(32, (3,3), activation='relu', input_shape=(image_size, image_size, 3)))\n",
        "model.add(Conv2D(32, (3,3), activation='relu'))\n",
        "model.add(MaxPooling2D(pool_size=(2, 2)))\n",
        "model.add(Dropout(0.25))\n",
        "\n",
        "model.add(Conv2D(64, (3,3), activation='relu'))\n",
        "model.add(Conv2D(64, (3,3), activation='relu'))\n",
        "model.add(MaxPooling2D(pool_size=(2, 2)))\n",
        "model.add(Dropout(0.25))\n",
        "\n",
        "model.add(Flatten())\n",
        "model.add(Dense(256, activation='relu'))\n",
        "model.add(Dropout(0.5))\n",
        "model.add(Dense(num_classes, activation='softmax'))\n",
        "\n",
        "# opt = SGD(lr=0.01)\n",
        "opt = Adam()\n",
        "\n",
        "model.compile(loss='categorical_crossentropy', optimizer=opt, metrics=['accuracy'])\n",
        "\n",
        "model.fit(X_train, y_train, batch_size=32, epochs=100)\n",
        "\n",
        "score = model.evaluate(X_test, y_test, batch_size=32)\n",
        "\n",
        "print(score)\n",
        "model.save('./food_recognition_cnn_50.h5')"
      ],
      "execution_count": 11,
      "outputs": [
        {
          "output_type": "stream",
          "text": [
            "Epoch 1/100\n",
            "389/389 [==============================] - 37s 95ms/step - loss: 3.6486 - accuracy: 0.0786\n",
            "Epoch 2/100\n",
            "389/389 [==============================] - 36s 93ms/step - loss: 3.3912 - accuracy: 0.1252\n",
            "Epoch 3/100\n",
            "389/389 [==============================] - 36s 93ms/step - loss: 3.1676 - accuracy: 0.1735\n",
            "Epoch 4/100\n",
            "389/389 [==============================] - 36s 93ms/step - loss: 2.8402 - accuracy: 0.2491\n",
            "Epoch 5/100\n",
            "389/389 [==============================] - 36s 93ms/step - loss: 2.3359 - accuracy: 0.3705\n",
            "Epoch 6/100\n",
            "389/389 [==============================] - 36s 93ms/step - loss: 1.8061 - accuracy: 0.4931\n",
            "Epoch 7/100\n",
            "389/389 [==============================] - 36s 92ms/step - loss: 1.3988 - accuracy: 0.5968\n",
            "Epoch 8/100\n",
            "389/389 [==============================] - 36s 93ms/step - loss: 1.1043 - accuracy: 0.6733\n",
            "Epoch 9/100\n",
            "389/389 [==============================] - 36s 93ms/step - loss: 0.9041 - accuracy: 0.7244\n",
            "Epoch 10/100\n",
            "389/389 [==============================] - 36s 93ms/step - loss: 0.7633 - accuracy: 0.7724\n",
            "Epoch 11/100\n",
            "389/389 [==============================] - 36s 93ms/step - loss: 0.6777 - accuracy: 0.7920\n",
            "Epoch 12/100\n",
            "389/389 [==============================] - 36s 93ms/step - loss: 0.5796 - accuracy: 0.8224\n",
            "Epoch 13/100\n",
            "389/389 [==============================] - 36s 93ms/step - loss: 0.5479 - accuracy: 0.8339\n",
            "Epoch 14/100\n",
            "389/389 [==============================] - 36s 93ms/step - loss: 0.5038 - accuracy: 0.8417\n",
            "Epoch 15/100\n",
            "389/389 [==============================] - 36s 93ms/step - loss: 0.4525 - accuracy: 0.8585\n",
            "Epoch 16/100\n",
            "389/389 [==============================] - 36s 93ms/step - loss: 0.4260 - accuracy: 0.8691\n",
            "Epoch 17/100\n",
            "389/389 [==============================] - 36s 93ms/step - loss: 0.3911 - accuracy: 0.8763\n",
            "Epoch 18/100\n",
            "389/389 [==============================] - 36s 93ms/step - loss: 0.3600 - accuracy: 0.8851\n",
            "Epoch 19/100\n",
            "389/389 [==============================] - 36s 93ms/step - loss: 0.3611 - accuracy: 0.8891\n",
            "Epoch 20/100\n",
            "389/389 [==============================] - 36s 93ms/step - loss: 0.3549 - accuracy: 0.8905\n",
            "Epoch 21/100\n",
            "389/389 [==============================] - 36s 93ms/step - loss: 0.3281 - accuracy: 0.9001\n",
            "Epoch 22/100\n",
            "389/389 [==============================] - 36s 93ms/step - loss: 0.3092 - accuracy: 0.9018\n",
            "Epoch 23/100\n",
            "389/389 [==============================] - 36s 93ms/step - loss: 0.2967 - accuracy: 0.9119\n",
            "Epoch 24/100\n",
            "389/389 [==============================] - 36s 93ms/step - loss: 0.2865 - accuracy: 0.9113\n",
            "Epoch 25/100\n",
            "389/389 [==============================] - 36s 93ms/step - loss: 0.2844 - accuracy: 0.9126\n",
            "Epoch 26/100\n",
            "389/389 [==============================] - 36s 93ms/step - loss: 0.2585 - accuracy: 0.9203\n",
            "Epoch 27/100\n",
            "389/389 [==============================] - 36s 93ms/step - loss: 0.2538 - accuracy: 0.9220\n",
            "Epoch 28/100\n",
            "389/389 [==============================] - 36s 93ms/step - loss: 0.2472 - accuracy: 0.9229\n",
            "Epoch 29/100\n",
            "389/389 [==============================] - 36s 93ms/step - loss: 0.2434 - accuracy: 0.9238\n",
            "Epoch 30/100\n",
            "389/389 [==============================] - 36s 93ms/step - loss: 0.2377 - accuracy: 0.9287\n",
            "Epoch 31/100\n",
            "389/389 [==============================] - 36s 93ms/step - loss: 0.2247 - accuracy: 0.9312\n",
            "Epoch 32/100\n",
            "389/389 [==============================] - 36s 93ms/step - loss: 0.2123 - accuracy: 0.9360\n",
            "Epoch 33/100\n",
            "389/389 [==============================] - 36s 93ms/step - loss: 0.2249 - accuracy: 0.9329\n",
            "Epoch 34/100\n",
            "389/389 [==============================] - 36s 93ms/step - loss: 0.2246 - accuracy: 0.9304\n",
            "Epoch 35/100\n",
            "389/389 [==============================] - 36s 93ms/step - loss: 0.2015 - accuracy: 0.9382\n",
            "Epoch 36/100\n",
            "389/389 [==============================] - 36s 93ms/step - loss: 0.2045 - accuracy: 0.9364\n",
            "Epoch 37/100\n",
            "389/389 [==============================] - 36s 93ms/step - loss: 0.2081 - accuracy: 0.9354\n",
            "Epoch 38/100\n",
            "389/389 [==============================] - 36s 93ms/step - loss: 0.1850 - accuracy: 0.9422\n",
            "Epoch 39/100\n",
            "389/389 [==============================] - 36s 92ms/step - loss: 0.1893 - accuracy: 0.9404\n",
            "Epoch 40/100\n",
            "389/389 [==============================] - 36s 93ms/step - loss: 0.1893 - accuracy: 0.9423\n",
            "Epoch 41/100\n",
            "389/389 [==============================] - 36s 93ms/step - loss: 0.1773 - accuracy: 0.9452\n",
            "Epoch 42/100\n",
            "389/389 [==============================] - 36s 93ms/step - loss: 0.1726 - accuracy: 0.9480\n",
            "Epoch 43/100\n",
            "389/389 [==============================] - 36s 92ms/step - loss: 0.1665 - accuracy: 0.9477\n",
            "Epoch 44/100\n",
            "389/389 [==============================] - 36s 93ms/step - loss: 0.1797 - accuracy: 0.9439\n",
            "Epoch 45/100\n",
            "389/389 [==============================] - 36s 92ms/step - loss: 0.1662 - accuracy: 0.9496\n",
            "Epoch 46/100\n",
            "389/389 [==============================] - 36s 93ms/step - loss: 0.1880 - accuracy: 0.9468\n",
            "Epoch 47/100\n",
            "389/389 [==============================] - 36s 93ms/step - loss: 0.1658 - accuracy: 0.9501\n",
            "Epoch 48/100\n",
            "389/389 [==============================] - 36s 93ms/step - loss: 0.1725 - accuracy: 0.9485\n",
            "Epoch 49/100\n",
            "389/389 [==============================] - 36s 93ms/step - loss: 0.1681 - accuracy: 0.9499\n",
            "Epoch 50/100\n",
            "389/389 [==============================] - 36s 93ms/step - loss: 0.1586 - accuracy: 0.9517\n",
            "Epoch 51/100\n",
            "389/389 [==============================] - 36s 93ms/step - loss: 0.1576 - accuracy: 0.9519\n",
            "Epoch 52/100\n",
            "389/389 [==============================] - 36s 93ms/step - loss: 0.1414 - accuracy: 0.9556\n",
            "Epoch 53/100\n",
            "389/389 [==============================] - 36s 93ms/step - loss: 0.1453 - accuracy: 0.9561\n",
            "Epoch 54/100\n",
            "389/389 [==============================] - 36s 93ms/step - loss: 0.1467 - accuracy: 0.9581\n",
            "Epoch 55/100\n",
            "389/389 [==============================] - 36s 92ms/step - loss: 0.1608 - accuracy: 0.9524\n",
            "Epoch 56/100\n",
            "389/389 [==============================] - 36s 93ms/step - loss: 0.1499 - accuracy: 0.9519\n",
            "Epoch 57/100\n",
            "389/389 [==============================] - 36s 92ms/step - loss: 0.1372 - accuracy: 0.9614\n",
            "Epoch 58/100\n",
            "389/389 [==============================] - 36s 93ms/step - loss: 0.1470 - accuracy: 0.9550\n",
            "Epoch 59/100\n",
            "389/389 [==============================] - 36s 93ms/step - loss: 0.1327 - accuracy: 0.9584\n",
            "Epoch 60/100\n",
            "389/389 [==============================] - 36s 92ms/step - loss: 0.1224 - accuracy: 0.9620\n",
            "Epoch 61/100\n",
            "389/389 [==============================] - 36s 93ms/step - loss: 0.1383 - accuracy: 0.9594\n",
            "Epoch 62/100\n",
            "389/389 [==============================] - 36s 93ms/step - loss: 0.1421 - accuracy: 0.9583\n",
            "Epoch 63/100\n",
            "389/389 [==============================] - 36s 93ms/step - loss: 0.1302 - accuracy: 0.9608\n",
            "Epoch 64/100\n",
            "389/389 [==============================] - 36s 92ms/step - loss: 0.1323 - accuracy: 0.9577\n",
            "Epoch 65/100\n",
            "389/389 [==============================] - 36s 93ms/step - loss: 0.1327 - accuracy: 0.9591\n",
            "Epoch 66/100\n",
            "389/389 [==============================] - 36s 93ms/step - loss: 0.1282 - accuracy: 0.9612\n",
            "Epoch 67/100\n",
            "389/389 [==============================] - 36s 92ms/step - loss: 0.1267 - accuracy: 0.9608\n",
            "Epoch 68/100\n",
            "389/389 [==============================] - 36s 93ms/step - loss: 0.1303 - accuracy: 0.9601\n",
            "Epoch 69/100\n",
            "389/389 [==============================] - 36s 93ms/step - loss: 0.1207 - accuracy: 0.9625\n",
            "Epoch 70/100\n",
            "389/389 [==============================] - 36s 93ms/step - loss: 0.1217 - accuracy: 0.9623\n",
            "Epoch 71/100\n",
            "389/389 [==============================] - 36s 93ms/step - loss: 0.1206 - accuracy: 0.9624\n",
            "Epoch 72/100\n",
            "389/389 [==============================] - 36s 92ms/step - loss: 0.1170 - accuracy: 0.9653\n",
            "Epoch 73/100\n",
            "389/389 [==============================] - 36s 92ms/step - loss: 0.1087 - accuracy: 0.9675\n",
            "Epoch 74/100\n",
            "389/389 [==============================] - 36s 92ms/step - loss: 0.1169 - accuracy: 0.9636\n",
            "Epoch 75/100\n",
            "389/389 [==============================] - 36s 93ms/step - loss: 0.1031 - accuracy: 0.9692\n",
            "Epoch 76/100\n",
            "389/389 [==============================] - 36s 93ms/step - loss: 0.1103 - accuracy: 0.9671\n",
            "Epoch 77/100\n",
            "389/389 [==============================] - 36s 93ms/step - loss: 0.1224 - accuracy: 0.9631\n",
            "Epoch 78/100\n",
            "389/389 [==============================] - 36s 93ms/step - loss: 0.1168 - accuracy: 0.9665\n",
            "Epoch 79/100\n",
            "389/389 [==============================] - 36s 93ms/step - loss: 0.1022 - accuracy: 0.9671\n",
            "Epoch 80/100\n",
            "389/389 [==============================] - 36s 92ms/step - loss: 0.1111 - accuracy: 0.9665\n",
            "Epoch 81/100\n",
            "389/389 [==============================] - 36s 92ms/step - loss: 0.1043 - accuracy: 0.9682\n",
            "Epoch 82/100\n",
            "389/389 [==============================] - 36s 92ms/step - loss: 0.1140 - accuracy: 0.9672\n",
            "Epoch 83/100\n",
            "389/389 [==============================] - 36s 92ms/step - loss: 0.1155 - accuracy: 0.9657\n",
            "Epoch 84/100\n",
            "389/389 [==============================] - 36s 92ms/step - loss: 0.1069 - accuracy: 0.9699\n",
            "Epoch 85/100\n",
            "389/389 [==============================] - 36s 92ms/step - loss: 0.1204 - accuracy: 0.9654\n",
            "Epoch 86/100\n",
            "389/389 [==============================] - 36s 93ms/step - loss: 0.1045 - accuracy: 0.9671\n",
            "Epoch 87/100\n",
            "389/389 [==============================] - 36s 93ms/step - loss: 0.1095 - accuracy: 0.9681\n",
            "Epoch 88/100\n",
            "389/389 [==============================] - 36s 92ms/step - loss: 0.0957 - accuracy: 0.9703\n",
            "Epoch 89/100\n",
            "389/389 [==============================] - 36s 92ms/step - loss: 0.0995 - accuracy: 0.9717\n",
            "Epoch 90/100\n",
            "389/389 [==============================] - 36s 92ms/step - loss: 0.1030 - accuracy: 0.9694\n",
            "Epoch 91/100\n",
            "389/389 [==============================] - 36s 92ms/step - loss: 0.0962 - accuracy: 0.9718\n",
            "Epoch 92/100\n",
            "389/389 [==============================] - 36s 92ms/step - loss: 0.1096 - accuracy: 0.9671\n",
            "Epoch 93/100\n",
            "389/389 [==============================] - 36s 93ms/step - loss: 0.0981 - accuracy: 0.9690\n",
            "Epoch 94/100\n",
            "389/389 [==============================] - 36s 93ms/step - loss: 0.1071 - accuracy: 0.9669\n",
            "Epoch 95/100\n",
            "389/389 [==============================] - 36s 93ms/step - loss: 0.0984 - accuracy: 0.9721\n",
            "Epoch 96/100\n",
            "389/389 [==============================] - 36s 92ms/step - loss: 0.1043 - accuracy: 0.9717\n",
            "Epoch 97/100\n",
            "389/389 [==============================] - 36s 92ms/step - loss: 0.1043 - accuracy: 0.9693\n",
            "Epoch 98/100\n",
            "389/389 [==============================] - 36s 92ms/step - loss: 0.0980 - accuracy: 0.9697\n",
            "Epoch 99/100\n",
            "389/389 [==============================] - 36s 92ms/step - loss: 0.0900 - accuracy: 0.9731\n",
            "Epoch 100/100\n",
            "389/389 [==============================] - 36s 92ms/step - loss: 0.0968 - accuracy: 0.9707\n",
            "130/130 [==============================] - 4s 31ms/step - loss: 5.6724 - accuracy: 0.3793\n",
            "[5.67242431640625, 0.3792521059513092]\n"
          ],
          "name": "stdout"
        }
      ]
    },
    {
      "cell_type": "code",
      "metadata": {
        "id": "FBOC_QlWBve0",
        "colab_type": "code",
        "colab": {}
      },
      "source": [
        ""
      ],
      "execution_count": null,
      "outputs": []
    }
  ]
}