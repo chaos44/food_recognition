{
  "nbformat": 4,
  "nbformat_minor": 0,
  "metadata": {
    "colab": {
      "name": "Untitled32.ipynb",
      "provenance": [],
      "collapsed_sections": [],
      "authorship_tag": "ABX9TyMpAPLJx7HNpWv8jesx5CY1",
      "include_colab_link": true
    },
    "kernelspec": {
      "name": "python3",
      "display_name": "Python 3"
    },
    "accelerator": "GPU"
  },
  "cells": [
    {
      "cell_type": "markdown",
      "metadata": {
        "id": "view-in-github",
        "colab_type": "text"
      },
      "source": [
        "<a href=\"https://colab.research.google.com/github/chaos44/food_recognition/blob/master/mobile_net.ipynb\" target=\"_parent\"><img src=\"https://colab.research.google.com/assets/colab-badge.svg\" alt=\"Open In Colab\"/></a>"
      ]
    },
    {
      "cell_type": "code",
      "metadata": {
        "id": "Yr1EW_iFPFYc"
      },
      "source": [
        "!pip install -U -q PyDrive\n",
        "from pydrive.auth import GoogleAuth\n",
        "from pydrive.drive import GoogleDrive\n",
        "from google.colab import auth\n",
        "from oauth2client.client import GoogleCredentials# 1. Authenticate and create the PyDrive client.\n",
        "auth.authenticate_user()\n",
        "gauth = GoogleAuth()\n",
        "gauth.credentials = GoogleCredentials.get_application_default()\n",
        "drive = GoogleDrive(gauth)#2. Get the file\n",
        "d10 = drive.CreateFile({'id':'1jqXr5d-UAhOUaPIb-g7p_8xEW9XxHjUr'}) # replace the id with id of file you want to access\n",
        "d20 = drive.CreateFile({'id':'1hbZ19igWGti65MXOeGOwuzbSzVAOLdlH'})\n",
        "d30 = drive.CreateFile({'id':'12uU6ocY9r6BfBk8fo4BQC8BVXjDDhCBb'})\n",
        "d40 = drive.CreateFile({'id':'1Hs5OVtYD8xDvLd7y6drDHUu4ErXjBvr_'})\n",
        "d50 = drive.CreateFile({'id':'19FaeD7fdFlqu0U8K2DIJevtp1tb4PbBe'})\n",
        "d10.GetContentFile('d10.zip')\n",
        "d20.GetContentFile('d20.zip')\n",
        "d30.GetContentFile('d30.zip')\n",
        "d40.GetContentFile('d40.zip')\n",
        "d50.GetContentFile('d50.zip')"
      ],
      "execution_count": 1,
      "outputs": []
    },
    {
      "cell_type": "code",
      "metadata": {
        "id": "9VWopgt5PGpi"
      },
      "source": [
        "!unzip d10.zip -d food\n",
        "!unzip d20.zip -d food\n",
        "!unzip d30.zip -d food\n",
        "!unzip d40.zip -d food\n",
        "!unzip d50.zip -d food"
      ],
      "execution_count": null,
      "outputs": []
    },
    {
      "cell_type": "code",
      "metadata": {
        "id": "8i5KL8EQRftJ"
      },
      "source": [
        "from PIL import Image\n",
        "import os, glob\n",
        "import numpy as np\n",
        "from sklearn import model_selection\n",
        "from keras.preprocessing.image import ImageDataGenerator"
      ],
      "execution_count": 1,
      "outputs": []
    },
    {
      "cell_type": "code",
      "metadata": {
        "id": "MkDCX1z4Rh03"
      },
      "source": [
        "# 中心から任意のサイズをトリミング\n",
        "def crop_center(pil_img, crop_width, crop_height):\n",
        "    img_width, img_height = pil_img.size\n",
        "    return pil_img.crop(((img_width - crop_width) // 2,\n",
        "                         (img_height - crop_height) // 2,\n",
        "                         (img_width + crop_width) // 2,\n",
        "                         (img_height + crop_height) // 2))"
      ],
      "execution_count": 2,
      "outputs": []
    },
    {
      "cell_type": "code",
      "metadata": {
        "id": "f57pwuZMRkkQ"
      },
      "source": [
        "# パラメータの初期化\n",
        "classes = ['beefdon', 'curry', 'fish', 'humberger', 'katsudon', 'ramen', 'seafooddon', 'soba', 'spaghetti', 'tempuradon'\n",
        "         , 'udon', 'lasagna', 'hamburger_steak', 'nikujaga', 'fried_rice', 'omelette', 'sukiyaki', 'sushi', 'gyoza', 'fried_chicken'\n",
        "         , 'okonomiyaki', 'croquette', 'pancake', 'french_toast', 'tart', 'taco_rice', 'doria', 'takoyaki', 'tapioca', 'yakisoba'\n",
        "         , 'ginger_pork', 'steak', 'roast_meat', 'bread', 'yakitori', 'rice_ball', 'goya_chanpuru', 'instant_noodle', 'meat_bun', 'gratin'\n",
        "         , 'mabo_tofu', 'tiramisu', 'cream_puff', 'eclair', 'hot_dog', 'potato_salad', 'stew', 'pizza', 'french_fry', 'avocado_salad']\n",
        "num_classes = len(classes)\n",
        "image_size = 150"
      ],
      "execution_count": 3,
      "outputs": []
    },
    {
      "cell_type": "code",
      "metadata": {
        "id": "Eja9JbwfR3Y7"
      },
      "source": [
        "# 画像の読み込みとnumpy配列への変換\n",
        "X_train = [] # リスト\n",
        "X_test = [] # リスト\n",
        "y_train = [] # リスト\n",
        "y_test = [] # リスト"
      ],
      "execution_count": 4,
      "outputs": []
    },
    {
      "cell_type": "code",
      "metadata": {
        "id": "Gc4BXAubR5az"
      },
      "source": [
        "# アスペクト比を固定して、幅が指定した値になるようリサイズする。\n",
        "def scale_to_width(img, width):\n",
        "    height = round(img.height * width / img.width)\n",
        "    return img.resize((width, height))"
      ],
      "execution_count": 5,
      "outputs": []
    },
    {
      "cell_type": "code",
      "metadata": {
        "id": "YOkTvUyRR65g",
        "outputId": "a55ee325-1565-4b3d-b89e-6a8271ffd0d7",
        "colab": {
          "base_uri": "https://localhost:8080/",
          "height": 86
        }
      },
      "source": [
        "for index, classlabel in enumerate(classes):\n",
        "    photos_dir = './food/' + classlabel  \n",
        "    files = glob.glob(photos_dir + '/*.jpg')\n",
        "    count = len(files)\n",
        "    # print(classlabel, count)  \n",
        "    for i, file in enumerate(files):\n",
        "        image = Image.open(file)\n",
        "        image = image.convert('RGB')\n",
        "        # image = image.convert('RGB')の前にトリミングするとメモリオーバー、理由不明\n",
        "        # 食材ごとにテストとトレーニングに分ける\n",
        "        # 画像サイズの取得\n",
        "        # 長い方に沿ってトリミング\n",
        "        # image = crop_center(image, 400, 400) # resizeする時にアスペクト比を固定させるため、400*400の部分をトリミング(800 * 800より正解率が上がる)\n",
        "        w, h = image.size\n",
        "        image = crop_center(image, w, w) if w >= h else crop_center(image, h, h)\n",
        "        image = image.resize((image_size, image_size))\n",
        "        data = np.asarray(image, dtype=np.float32) / 255.0  # 正規化 # dtype=np.float32でサイズ縮小、MemoryError解消のため # 2020/7/7\n",
        "        if (i < 3/4 * count):\n",
        "            X_train.append(data)\n",
        "            y_train.append(index)\n",
        "        else: \n",
        "            X_test.append(data)\n",
        "            y_test.append(index)\n",
        "\n",
        "X_train = np.array(X_train)\n",
        "X_test = np.array(X_test)\n",
        "y_train = np.array(y_train)\n",
        "y_test = np.array(y_test)"
      ],
      "execution_count": 6,
      "outputs": [
        {
          "output_type": "stream",
          "text": [
            "/usr/local/lib/python3.6/dist-packages/PIL/TiffImagePlugin.py:788: UserWarning: Corrupt EXIF data.  Expecting to read 4 bytes but only got 2. \n",
            "  warnings.warn(str(msg))\n",
            "/usr/local/lib/python3.6/dist-packages/PIL/TiffImagePlugin.py:788: UserWarning: Corrupt EXIF data.  Expecting to read 4 bytes but only got 0. \n",
            "  warnings.warn(str(msg))\n"
          ],
          "name": "stderr"
        }
      ]
    },
    {
      "cell_type": "code",
      "metadata": {
        "id": "KAQHkRZzR9J6",
        "outputId": "10249880-7527-4d68-8047-707b77f67b1d",
        "colab": {
          "base_uri": "https://localhost:8080/",
          "height": 86
        }
      },
      "source": [
        "print(X_train.nbytes)\n",
        "print(X_test.nbytes)\n",
        "print(y_train.nbytes)\n",
        "print(y_test.nbytes)"
      ],
      "execution_count": 7,
      "outputs": [
        {
          "output_type": "stream",
          "text": [
            "3431160000\n",
            "1136700000\n",
            "101664\n",
            "33680\n"
          ],
          "name": "stdout"
        }
      ]
    },
    {
      "cell_type": "code",
      "metadata": {
        "id": "cxW2Jv5OR_W_"
      },
      "source": [
        "# X_train, X_test, y_train, y_test = model_selection.train_test_split(X, Y)\n",
        "# X_train, X_test = model_selection.train_test_split(X)\n",
        "# print(X_train.nbytes)\n",
        "# print(X_test.nbytes)"
      ],
      "execution_count": 8,
      "outputs": []
    },
    {
      "cell_type": "code",
      "metadata": {
        "id": "monlBiTnSGjw"
      },
      "source": [
        "from keras.models import Sequential, Model\n",
        "from keras.layers import Dense, Dropout, Flatten\n",
        "from keras.layers import Conv2D, MaxPooling2D\n",
        "from keras.optimizers import SGD, Adam\n",
        "from keras.utils import np_utils\n",
        "from keras.applications import MobileNetV2\n",
        "\n",
        "y_train = np_utils.to_categorical(y_train, num_classes)\n",
        "y_test = np_utils.to_categorical(y_test, num_classes)"
      ],
      "execution_count": 9,
      "outputs": []
    },
    {
      "cell_type": "code",
      "metadata": {
        "id": "UjNdn7HjsbtN"
      },
      "source": [
        "datagen = ImageDataGenerator(\n",
        "    rotation_range=20,\n",
        "    width_shift_range=0.2,\n",
        "    height_shift_range=0.2,\n",
        "    horizontal_flip=True)"
      ],
      "execution_count": 10,
      "outputs": []
    },
    {
      "cell_type": "code",
      "metadata": {
        "id": "Am9hgLxfsfpY"
      },
      "source": [
        "# compute quantities requiredXXfor featurewise normalization\n",
        "# (std, mean, and principal components if ZCA whitening is applied)\n",
        "datagen.fit(X_train)"
      ],
      "execution_count": 11,
      "outputs": []
    },
    {
      "cell_type": "code",
      "metadata": {
        "id": "xck7RMIf1BMz",
        "outputId": "d9fe07b8-fd61-40c3-ce90-9302aaf3a308",
        "colab": {
          "base_uri": "https://localhost:8080/",
          "height": 69
        }
      },
      "source": [
        "# mobile_net\n",
        "model = MobileNetV2(weights='imagenet', include_top=False, input_shape=(image_size, image_size, 3))\n",
        "top_model = Sequential()\n",
        "top_model.add(Flatten(input_shape=model.output_shape[1:])) # 1番目は個数、その後の数を使う\n",
        "top_model.add(Dense(256, activation='relu'))\n",
        "top_model.add(Dropout(0.5))\n",
        "top_model.add(Dense(num_classes, activation='softmax'))\n",
        "\n",
        "model = Model(inputs=model.input, outputs=top_model(model.output))"
      ],
      "execution_count": 12,
      "outputs": [
        {
          "output_type": "stream",
          "text": [
            "WARNING:tensorflow:`input_shape` is undefined or non-square, or `rows` is not in [96, 128, 160, 192, 224]. Weights for input shape (224, 224) will be loaded as the default.\n",
            "Downloading data from https://storage.googleapis.com/tensorflow/keras-applications/mobilenet_v2/mobilenet_v2_weights_tf_dim_ordering_tf_kernels_1.0_224_no_top.h5\n",
            "9412608/9406464 [==============================] - 0s 0us/step\n"
          ],
          "name": "stdout"
        }
      ]
    },
    {
      "cell_type": "code",
      "metadata": {
        "id": "DWgCsvWpPl3k"
      },
      "source": [
        "# レイアを調べる\n",
        "for i, layer in enumerate(model.layers):\n",
        "    print(i, layer.name)"
      ],
      "execution_count": null,
      "outputs": []
    },
    {
      "cell_type": "code",
      "metadata": {
        "id": "bLA4PtdyPhCt",
        "outputId": "6557f6ba-86eb-4a89-9328-efcc3f8fd427",
        "colab": {
          "base_uri": "https://localhost:8080/",
          "height": 1000
        }
      },
      "source": [
        "# 最後のブロックだけ学習させる\n",
        "# for layer in model.layers[0:154]:\n",
        "#    layer.trainable = False\n",
        "\n",
        "# block_16学習\n",
        "for layer in model.layers[0:154]:\n",
        "    layer.trainable = False\n",
        "opt = Adam(lr=0.0001)\n",
        "\n",
        "model.compile(loss='categorical_crossentropy', optimizer=opt, metrics=['accuracy'])\n",
        "\n",
        "model.fit(datagen.flow(X_train, y_train, batch_size=32),\n",
        "                    steps_per_epoch=len(X_train) / 32, epochs=200)\n",
        "\n",
        "score = model.evaluate(X_test, y_test, batch_size=32)\n",
        "print(score)"
      ],
      "execution_count": 14,
      "outputs": [
        {
          "output_type": "stream",
          "text": [
            "Epoch 1/200\n",
            "398/397 [==============================] - 62s 155ms/step - loss: 3.4293 - accuracy: 0.1577\n",
            "Epoch 2/200\n",
            "398/397 [==============================] - 61s 154ms/step - loss: 2.7456 - accuracy: 0.3056\n",
            "Epoch 3/200\n",
            "398/397 [==============================] - 62s 155ms/step - loss: 2.4788 - accuracy: 0.3619\n",
            "Epoch 4/200\n",
            "398/397 [==============================] - 61s 154ms/step - loss: 2.2913 - accuracy: 0.4130\n",
            "Epoch 5/200\n",
            "398/397 [==============================] - 62s 155ms/step - loss: 2.1702 - accuracy: 0.4377\n",
            "Epoch 6/200\n",
            "398/397 [==============================] - 61s 154ms/step - loss: 2.0882 - accuracy: 0.4523\n",
            "Epoch 7/200\n",
            "398/397 [==============================] - 61s 154ms/step - loss: 2.0062 - accuracy: 0.4739\n",
            "Epoch 8/200\n",
            "398/397 [==============================] - 62s 155ms/step - loss: 1.9207 - accuracy: 0.4945\n",
            "Epoch 9/200\n",
            "398/397 [==============================] - 62s 155ms/step - loss: 1.8773 - accuracy: 0.5024\n",
            "Epoch 10/200\n",
            "398/397 [==============================] - 61s 154ms/step - loss: 1.8347 - accuracy: 0.5098\n",
            "Epoch 11/200\n",
            "398/397 [==============================] - 62s 155ms/step - loss: 1.7792 - accuracy: 0.5242\n",
            "Epoch 12/200\n",
            "398/397 [==============================] - 62s 155ms/step - loss: 1.7578 - accuracy: 0.5329\n",
            "Epoch 13/200\n",
            "398/397 [==============================] - 61s 154ms/step - loss: 1.7225 - accuracy: 0.5329\n",
            "Epoch 14/200\n",
            "398/397 [==============================] - 61s 154ms/step - loss: 1.6729 - accuracy: 0.5439\n",
            "Epoch 15/200\n",
            "398/397 [==============================] - 61s 154ms/step - loss: 1.6504 - accuracy: 0.5500\n",
            "Epoch 16/200\n",
            "398/397 [==============================] - 61s 154ms/step - loss: 1.6282 - accuracy: 0.5572\n",
            "Epoch 17/200\n",
            "398/397 [==============================] - 61s 154ms/step - loss: 1.6319 - accuracy: 0.5566\n",
            "Epoch 18/200\n",
            "398/397 [==============================] - 61s 154ms/step - loss: 1.5606 - accuracy: 0.5685\n",
            "Epoch 19/200\n",
            "398/397 [==============================] - 61s 154ms/step - loss: 1.5419 - accuracy: 0.5752\n",
            "Epoch 20/200\n",
            "398/397 [==============================] - 61s 154ms/step - loss: 1.5133 - accuracy: 0.5826\n",
            "Epoch 21/200\n",
            "398/397 [==============================] - 61s 155ms/step - loss: 1.5326 - accuracy: 0.5761\n",
            "Epoch 22/200\n",
            "398/397 [==============================] - 61s 154ms/step - loss: 1.4886 - accuracy: 0.5867\n",
            "Epoch 23/200\n",
            "398/397 [==============================] - 61s 154ms/step - loss: 1.4840 - accuracy: 0.5888\n",
            "Epoch 24/200\n",
            "398/397 [==============================] - 61s 154ms/step - loss: 1.4485 - accuracy: 0.5965\n",
            "Epoch 25/200\n",
            "398/397 [==============================] - 61s 154ms/step - loss: 1.4499 - accuracy: 0.5995\n",
            "Epoch 26/200\n",
            "398/397 [==============================] - 62s 155ms/step - loss: 1.4255 - accuracy: 0.6050\n",
            "Epoch 27/200\n",
            "398/397 [==============================] - 61s 154ms/step - loss: 1.4151 - accuracy: 0.6021\n",
            "Epoch 28/200\n",
            "398/397 [==============================] - 61s 154ms/step - loss: 1.3963 - accuracy: 0.6097\n",
            "Epoch 29/200\n",
            "398/397 [==============================] - 61s 154ms/step - loss: 1.3911 - accuracy: 0.6094\n",
            "Epoch 30/200\n",
            "398/397 [==============================] - 61s 154ms/step - loss: 1.3979 - accuracy: 0.6019\n",
            "Epoch 31/200\n",
            "398/397 [==============================] - 61s 154ms/step - loss: 1.3627 - accuracy: 0.6141\n",
            "Epoch 32/200\n",
            "398/397 [==============================] - 61s 154ms/step - loss: 1.3403 - accuracy: 0.6191\n",
            "Epoch 33/200\n",
            "398/397 [==============================] - 61s 154ms/step - loss: 1.3430 - accuracy: 0.6217\n",
            "Epoch 34/200\n",
            "398/397 [==============================] - 61s 154ms/step - loss: 1.3179 - accuracy: 0.6264\n",
            "Epoch 35/200\n",
            "398/397 [==============================] - 61s 154ms/step - loss: 1.3215 - accuracy: 0.6283\n",
            "Epoch 36/200\n",
            "398/397 [==============================] - 62s 155ms/step - loss: 1.2843 - accuracy: 0.6378\n",
            "Epoch 37/200\n",
            "398/397 [==============================] - 61s 154ms/step - loss: 1.2873 - accuracy: 0.6338\n",
            "Epoch 38/200\n",
            "398/397 [==============================] - 62s 155ms/step - loss: 1.2944 - accuracy: 0.6313\n",
            "Epoch 39/200\n",
            "398/397 [==============================] - 61s 154ms/step - loss: 1.2841 - accuracy: 0.6339\n",
            "Epoch 40/200\n",
            "398/397 [==============================] - 61s 154ms/step - loss: 1.2449 - accuracy: 0.6397\n",
            "Epoch 41/200\n",
            "398/397 [==============================] - 61s 154ms/step - loss: 1.2607 - accuracy: 0.6366\n",
            "Epoch 42/200\n",
            "398/397 [==============================] - 61s 154ms/step - loss: 1.2292 - accuracy: 0.6448\n",
            "Epoch 43/200\n",
            "398/397 [==============================] - 62s 155ms/step - loss: 1.2357 - accuracy: 0.6476\n",
            "Epoch 44/200\n",
            "398/397 [==============================] - 61s 154ms/step - loss: 1.2551 - accuracy: 0.6425\n",
            "Epoch 45/200\n",
            "398/397 [==============================] - 62s 156ms/step - loss: 1.2198 - accuracy: 0.6484\n",
            "Epoch 46/200\n",
            "398/397 [==============================] - 61s 155ms/step - loss: 1.2216 - accuracy: 0.6467\n",
            "Epoch 47/200\n",
            "398/397 [==============================] - 61s 154ms/step - loss: 1.2042 - accuracy: 0.6524\n",
            "Epoch 48/200\n",
            "398/397 [==============================] - 61s 154ms/step - loss: 1.1882 - accuracy: 0.6583\n",
            "Epoch 49/200\n",
            "398/397 [==============================] - 61s 154ms/step - loss: 1.1873 - accuracy: 0.6581\n",
            "Epoch 50/200\n",
            "398/397 [==============================] - 61s 154ms/step - loss: 1.1908 - accuracy: 0.6562\n",
            "Epoch 51/200\n",
            "398/397 [==============================] - 61s 154ms/step - loss: 1.1795 - accuracy: 0.6597\n",
            "Epoch 52/200\n",
            "398/397 [==============================] - 61s 154ms/step - loss: 1.1874 - accuracy: 0.6600\n",
            "Epoch 53/200\n",
            "398/397 [==============================] - 61s 154ms/step - loss: 1.1613 - accuracy: 0.6590\n",
            "Epoch 54/200\n",
            "398/397 [==============================] - 61s 154ms/step - loss: 1.1696 - accuracy: 0.6609\n",
            "Epoch 55/200\n",
            "398/397 [==============================] - 61s 154ms/step - loss: 1.1529 - accuracy: 0.6696\n",
            "Epoch 56/200\n",
            "398/397 [==============================] - 62s 155ms/step - loss: 1.1645 - accuracy: 0.6616\n",
            "Epoch 57/200\n",
            "398/397 [==============================] - 61s 154ms/step - loss: 1.1280 - accuracy: 0.6672\n",
            "Epoch 58/200\n",
            "398/397 [==============================] - 61s 154ms/step - loss: 1.1207 - accuracy: 0.6723\n",
            "Epoch 59/200\n",
            "398/397 [==============================] - 61s 154ms/step - loss: 1.1317 - accuracy: 0.6748\n",
            "Epoch 60/200\n",
            "398/397 [==============================] - 61s 154ms/step - loss: 1.1217 - accuracy: 0.6765\n",
            "Epoch 61/200\n",
            "398/397 [==============================] - 62s 155ms/step - loss: 1.1190 - accuracy: 0.6765\n",
            "Epoch 62/200\n",
            "398/397 [==============================] - 62s 155ms/step - loss: 1.1051 - accuracy: 0.6792\n",
            "Epoch 63/200\n",
            "398/397 [==============================] - 61s 154ms/step - loss: 1.0840 - accuracy: 0.6803\n",
            "Epoch 64/200\n",
            "398/397 [==============================] - 61s 154ms/step - loss: 1.0974 - accuracy: 0.6811\n",
            "Epoch 65/200\n",
            "398/397 [==============================] - 61s 154ms/step - loss: 1.0899 - accuracy: 0.6826\n",
            "Epoch 66/200\n",
            "398/397 [==============================] - 61s 154ms/step - loss: 1.0746 - accuracy: 0.6873\n",
            "Epoch 67/200\n",
            "398/397 [==============================] - 61s 154ms/step - loss: 1.0961 - accuracy: 0.6778\n",
            "Epoch 68/200\n",
            "398/397 [==============================] - 61s 154ms/step - loss: 1.0929 - accuracy: 0.6790\n",
            "Epoch 69/200\n",
            "398/397 [==============================] - 61s 154ms/step - loss: 1.0739 - accuracy: 0.6863\n",
            "Epoch 70/200\n",
            "398/397 [==============================] - 61s 154ms/step - loss: 1.0720 - accuracy: 0.6843\n",
            "Epoch 71/200\n",
            "398/397 [==============================] - 62s 155ms/step - loss: 1.0624 - accuracy: 0.6913\n",
            "Epoch 72/200\n",
            "398/397 [==============================] - 61s 154ms/step - loss: 1.0647 - accuracy: 0.6867\n",
            "Epoch 73/200\n",
            "398/397 [==============================] - 61s 154ms/step - loss: 1.0512 - accuracy: 0.6898\n",
            "Epoch 74/200\n",
            "398/397 [==============================] - 61s 154ms/step - loss: 1.0778 - accuracy: 0.6880\n",
            "Epoch 75/200\n",
            "398/397 [==============================] - 61s 154ms/step - loss: 1.0384 - accuracy: 0.6991\n",
            "Epoch 76/200\n",
            "398/397 [==============================] - 62s 155ms/step - loss: 1.0591 - accuracy: 0.6900\n",
            "Epoch 77/200\n",
            "398/397 [==============================] - 61s 154ms/step - loss: 1.0554 - accuracy: 0.6906\n",
            "Epoch 78/200\n",
            "398/397 [==============================] - 61s 155ms/step - loss: 1.0358 - accuracy: 0.6966\n",
            "Epoch 79/200\n",
            "398/397 [==============================] - 62s 155ms/step - loss: 1.0302 - accuracy: 0.6996\n",
            "Epoch 80/200\n",
            "398/397 [==============================] - 62s 155ms/step - loss: 1.0512 - accuracy: 0.6898\n",
            "Epoch 81/200\n",
            "398/397 [==============================] - 62s 156ms/step - loss: 1.0393 - accuracy: 0.6966\n",
            "Epoch 82/200\n",
            "398/397 [==============================] - 62s 156ms/step - loss: 1.0337 - accuracy: 0.6964\n",
            "Epoch 83/200\n",
            "398/397 [==============================] - 62s 155ms/step - loss: 1.0154 - accuracy: 0.7064\n",
            "Epoch 84/200\n",
            "398/397 [==============================] - 62s 155ms/step - loss: 1.0038 - accuracy: 0.7092\n",
            "Epoch 85/200\n",
            "398/397 [==============================] - 62s 155ms/step - loss: 1.0180 - accuracy: 0.6990\n",
            "Epoch 86/200\n",
            "398/397 [==============================] - 62s 155ms/step - loss: 1.0066 - accuracy: 0.7070\n",
            "Epoch 87/200\n",
            "398/397 [==============================] - 62s 155ms/step - loss: 0.9867 - accuracy: 0.7074\n",
            "Epoch 88/200\n",
            "398/397 [==============================] - 61s 154ms/step - loss: 0.9770 - accuracy: 0.7136\n",
            "Epoch 89/200\n",
            "398/397 [==============================] - 61s 154ms/step - loss: 0.9901 - accuracy: 0.7064\n",
            "Epoch 90/200\n",
            "398/397 [==============================] - 61s 154ms/step - loss: 1.0026 - accuracy: 0.7033\n",
            "Epoch 91/200\n",
            "398/397 [==============================] - 61s 154ms/step - loss: 0.9838 - accuracy: 0.7091\n",
            "Epoch 92/200\n",
            "398/397 [==============================] - 61s 154ms/step - loss: 0.9902 - accuracy: 0.7027\n",
            "Epoch 93/200\n",
            "398/397 [==============================] - 62s 155ms/step - loss: 0.9648 - accuracy: 0.7114\n",
            "Epoch 94/200\n",
            "398/397 [==============================] - 62s 155ms/step - loss: 0.9788 - accuracy: 0.7110\n",
            "Epoch 95/200\n",
            "398/397 [==============================] - 62s 155ms/step - loss: 0.9735 - accuracy: 0.7138\n",
            "Epoch 96/200\n",
            "398/397 [==============================] - 62s 155ms/step - loss: 0.9952 - accuracy: 0.7113\n",
            "Epoch 97/200\n",
            "398/397 [==============================] - 62s 155ms/step - loss: 0.9749 - accuracy: 0.7140\n",
            "Epoch 98/200\n",
            "398/397 [==============================] - 61s 154ms/step - loss: 0.9538 - accuracy: 0.7178\n",
            "Epoch 99/200\n",
            "398/397 [==============================] - 61s 154ms/step - loss: 0.9658 - accuracy: 0.7118\n",
            "Epoch 100/200\n",
            "398/397 [==============================] - 61s 154ms/step - loss: 0.9730 - accuracy: 0.7184\n",
            "Epoch 101/200\n",
            "398/397 [==============================] - 62s 155ms/step - loss: 0.9701 - accuracy: 0.7144\n",
            "Epoch 102/200\n",
            "398/397 [==============================] - 62s 155ms/step - loss: 0.9425 - accuracy: 0.7168\n",
            "Epoch 103/200\n",
            "398/397 [==============================] - 62s 155ms/step - loss: 0.9304 - accuracy: 0.7210\n",
            "Epoch 104/200\n",
            "398/397 [==============================] - 61s 154ms/step - loss: 0.9643 - accuracy: 0.7229\n",
            "Epoch 105/200\n",
            "398/397 [==============================] - 62s 155ms/step - loss: 0.9362 - accuracy: 0.7187\n",
            "Epoch 106/200\n",
            "398/397 [==============================] - 62s 155ms/step - loss: 0.9555 - accuracy: 0.7142\n",
            "Epoch 107/200\n",
            "398/397 [==============================] - 62s 155ms/step - loss: 0.9449 - accuracy: 0.7156\n",
            "Epoch 108/200\n",
            "398/397 [==============================] - 61s 154ms/step - loss: 0.9367 - accuracy: 0.7164\n",
            "Epoch 109/200\n",
            "398/397 [==============================] - 62s 155ms/step - loss: 0.9448 - accuracy: 0.7203\n",
            "Epoch 110/200\n",
            "398/397 [==============================] - 61s 154ms/step - loss: 0.9533 - accuracy: 0.7180\n",
            "Epoch 111/200\n",
            "398/397 [==============================] - 61s 154ms/step - loss: 0.9330 - accuracy: 0.7224\n",
            "Epoch 112/200\n",
            "398/397 [==============================] - 62s 155ms/step - loss: 0.9209 - accuracy: 0.7279\n",
            "Epoch 113/200\n",
            "398/397 [==============================] - 61s 154ms/step - loss: 0.9311 - accuracy: 0.7246\n",
            "Epoch 114/200\n",
            "398/397 [==============================] - 61s 154ms/step - loss: 0.9342 - accuracy: 0.7215\n",
            "Epoch 115/200\n",
            "398/397 [==============================] - 61s 154ms/step - loss: 0.9168 - accuracy: 0.7306\n",
            "Epoch 116/200\n",
            "398/397 [==============================] - 61s 154ms/step - loss: 0.9018 - accuracy: 0.7288\n",
            "Epoch 117/200\n",
            "398/397 [==============================] - 62s 155ms/step - loss: 0.8997 - accuracy: 0.7338\n",
            "Epoch 118/200\n",
            "398/397 [==============================] - 61s 154ms/step - loss: 0.9134 - accuracy: 0.7251\n",
            "Epoch 119/200\n",
            "398/397 [==============================] - 61s 154ms/step - loss: 0.9063 - accuracy: 0.7312\n",
            "Epoch 120/200\n",
            "398/397 [==============================] - 61s 155ms/step - loss: 0.9042 - accuracy: 0.7284\n",
            "Epoch 121/200\n",
            "398/397 [==============================] - 61s 154ms/step - loss: 0.8895 - accuracy: 0.7315\n",
            "Epoch 122/200\n",
            "398/397 [==============================] - 62s 155ms/step - loss: 0.9052 - accuracy: 0.7291\n",
            "Epoch 123/200\n",
            "398/397 [==============================] - 61s 154ms/step - loss: 0.9001 - accuracy: 0.7322\n",
            "Epoch 124/200\n",
            "398/397 [==============================] - 62s 155ms/step - loss: 0.9096 - accuracy: 0.7306\n",
            "Epoch 125/200\n",
            "398/397 [==============================] - 62s 155ms/step - loss: 0.8901 - accuracy: 0.7328\n",
            "Epoch 126/200\n",
            "398/397 [==============================] - 62s 155ms/step - loss: 0.8928 - accuracy: 0.7302\n",
            "Epoch 127/200\n",
            "398/397 [==============================] - 62s 155ms/step - loss: 0.9012 - accuracy: 0.7314\n",
            "Epoch 128/200\n",
            "398/397 [==============================] - 62s 155ms/step - loss: 0.8932 - accuracy: 0.7373\n",
            "Epoch 129/200\n",
            "398/397 [==============================] - 62s 155ms/step - loss: 0.8726 - accuracy: 0.7343\n",
            "Epoch 130/200\n",
            "398/397 [==============================] - 62s 155ms/step - loss: 0.8999 - accuracy: 0.7351\n",
            "Epoch 131/200\n",
            "398/397 [==============================] - 62s 155ms/step - loss: 0.8988 - accuracy: 0.7322\n",
            "Epoch 132/200\n",
            "398/397 [==============================] - 62s 155ms/step - loss: 0.8622 - accuracy: 0.7432\n",
            "Epoch 133/200\n",
            "398/397 [==============================] - 62s 155ms/step - loss: 0.8850 - accuracy: 0.7294\n",
            "Epoch 134/200\n",
            "398/397 [==============================] - 62s 155ms/step - loss: 0.8818 - accuracy: 0.7390\n",
            "Epoch 135/200\n",
            "398/397 [==============================] - 62s 156ms/step - loss: 0.8833 - accuracy: 0.7370\n",
            "Epoch 136/200\n",
            "398/397 [==============================] - 62s 155ms/step - loss: 0.8682 - accuracy: 0.7362\n",
            "Epoch 137/200\n",
            "398/397 [==============================] - 62s 155ms/step - loss: 0.8879 - accuracy: 0.7310\n",
            "Epoch 138/200\n",
            "398/397 [==============================] - 62s 155ms/step - loss: 0.8517 - accuracy: 0.7434\n",
            "Epoch 139/200\n",
            "398/397 [==============================] - 62s 155ms/step - loss: 0.8722 - accuracy: 0.7367\n",
            "Epoch 140/200\n",
            "398/397 [==============================] - 62s 155ms/step - loss: 0.8765 - accuracy: 0.7406\n",
            "Epoch 141/200\n",
            "398/397 [==============================] - 62s 155ms/step - loss: 0.8457 - accuracy: 0.7460\n",
            "Epoch 142/200\n",
            "398/397 [==============================] - 62s 156ms/step - loss: 0.8554 - accuracy: 0.7458\n",
            "Epoch 143/200\n",
            "398/397 [==============================] - 61s 154ms/step - loss: 0.8552 - accuracy: 0.7412\n",
            "Epoch 144/200\n",
            "398/397 [==============================] - 62s 155ms/step - loss: 0.8498 - accuracy: 0.7461\n",
            "Epoch 145/200\n",
            "398/397 [==============================] - 62s 155ms/step - loss: 0.8401 - accuracy: 0.7473\n",
            "Epoch 146/200\n",
            "398/397 [==============================] - 61s 153ms/step - loss: 0.8524 - accuracy: 0.7460\n",
            "Epoch 147/200\n",
            "398/397 [==============================] - 62s 155ms/step - loss: 0.8588 - accuracy: 0.7442\n",
            "Epoch 148/200\n",
            "398/397 [==============================] - 61s 154ms/step - loss: 0.8499 - accuracy: 0.7468\n",
            "Epoch 149/200\n",
            "398/397 [==============================] - 61s 154ms/step - loss: 0.8564 - accuracy: 0.7396\n",
            "Epoch 150/200\n",
            "398/397 [==============================] - 61s 154ms/step - loss: 0.8414 - accuracy: 0.7462\n",
            "Epoch 151/200\n",
            "398/397 [==============================] - 61s 154ms/step - loss: 0.8437 - accuracy: 0.7441\n",
            "Epoch 152/200\n",
            "398/397 [==============================] - 62s 155ms/step - loss: 0.8412 - accuracy: 0.7466\n",
            "Epoch 153/200\n",
            "398/397 [==============================] - 61s 154ms/step - loss: 0.8332 - accuracy: 0.7507\n",
            "Epoch 154/200\n",
            "398/397 [==============================] - 61s 153ms/step - loss: 0.8347 - accuracy: 0.7470\n",
            "Epoch 155/200\n",
            "398/397 [==============================] - 61s 154ms/step - loss: 0.8318 - accuracy: 0.7517\n",
            "Epoch 156/200\n",
            "398/397 [==============================] - 61s 154ms/step - loss: 0.8229 - accuracy: 0.7518\n",
            "Epoch 157/200\n",
            "398/397 [==============================] - 62s 155ms/step - loss: 0.8462 - accuracy: 0.7458\n",
            "Epoch 158/200\n",
            "398/397 [==============================] - 61s 154ms/step - loss: 0.8155 - accuracy: 0.7523\n",
            "Epoch 159/200\n",
            "398/397 [==============================] - 61s 154ms/step - loss: 0.8388 - accuracy: 0.7458\n",
            "Epoch 160/200\n",
            "398/397 [==============================] - 61s 154ms/step - loss: 0.8287 - accuracy: 0.7536\n",
            "Epoch 161/200\n",
            "398/397 [==============================] - 61s 154ms/step - loss: 0.8302 - accuracy: 0.7550\n",
            "Epoch 162/200\n",
            "398/397 [==============================] - 61s 154ms/step - loss: 0.8146 - accuracy: 0.7534\n",
            "Epoch 163/200\n",
            "398/397 [==============================] - 61s 153ms/step - loss: 0.8114 - accuracy: 0.7543\n",
            "Epoch 164/200\n",
            "398/397 [==============================] - 61s 154ms/step - loss: 0.8304 - accuracy: 0.7547\n",
            "Epoch 165/200\n",
            "398/397 [==============================] - 61s 154ms/step - loss: 0.8101 - accuracy: 0.7530\n",
            "Epoch 166/200\n",
            "398/397 [==============================] - 61s 154ms/step - loss: 0.8144 - accuracy: 0.7528\n",
            "Epoch 167/200\n",
            "398/397 [==============================] - 61s 154ms/step - loss: 0.8144 - accuracy: 0.7554\n",
            "Epoch 168/200\n",
            "398/397 [==============================] - 61s 153ms/step - loss: 0.8095 - accuracy: 0.7540\n",
            "Epoch 169/200\n",
            "398/397 [==============================] - 61s 153ms/step - loss: 0.8209 - accuracy: 0.7553\n",
            "Epoch 170/200\n",
            "398/397 [==============================] - 61s 153ms/step - loss: 0.8037 - accuracy: 0.7558\n",
            "Epoch 171/200\n",
            "398/397 [==============================] - 61s 153ms/step - loss: 0.8250 - accuracy: 0.7516\n",
            "Epoch 172/200\n",
            "398/397 [==============================] - 61s 153ms/step - loss: 0.8210 - accuracy: 0.7514\n",
            "Epoch 173/200\n",
            "398/397 [==============================] - 61s 153ms/step - loss: 0.8170 - accuracy: 0.7508\n",
            "Epoch 174/200\n",
            "398/397 [==============================] - 61s 153ms/step - loss: 0.8193 - accuracy: 0.7555\n",
            "Epoch 175/200\n",
            "398/397 [==============================] - 61s 153ms/step - loss: 0.8093 - accuracy: 0.7539\n",
            "Epoch 176/200\n",
            "398/397 [==============================] - 61s 153ms/step - loss: 0.7900 - accuracy: 0.7613\n",
            "Epoch 177/200\n",
            "398/397 [==============================] - 61s 153ms/step - loss: 0.8121 - accuracy: 0.7560\n",
            "Epoch 178/200\n",
            "398/397 [==============================] - 61s 153ms/step - loss: 0.7969 - accuracy: 0.7552\n",
            "Epoch 179/200\n",
            "398/397 [==============================] - 61s 153ms/step - loss: 0.7972 - accuracy: 0.7615\n",
            "Epoch 180/200\n",
            "398/397 [==============================] - 61s 153ms/step - loss: 0.7918 - accuracy: 0.7635\n",
            "Epoch 181/200\n",
            "398/397 [==============================] - 61s 154ms/step - loss: 0.7891 - accuracy: 0.7602\n",
            "Epoch 182/200\n",
            "398/397 [==============================] - 61s 154ms/step - loss: 0.8002 - accuracy: 0.7598\n",
            "Epoch 183/200\n",
            "398/397 [==============================] - 61s 153ms/step - loss: 0.7961 - accuracy: 0.7584\n",
            "Epoch 184/200\n",
            "398/397 [==============================] - 61s 153ms/step - loss: 0.7839 - accuracy: 0.7590\n",
            "Epoch 185/200\n",
            "398/397 [==============================] - 61s 152ms/step - loss: 0.7825 - accuracy: 0.7562\n",
            "Epoch 186/200\n",
            "398/397 [==============================] - 61s 153ms/step - loss: 0.7790 - accuracy: 0.7635\n",
            "Epoch 187/200\n",
            "398/397 [==============================] - 61s 153ms/step - loss: 0.7992 - accuracy: 0.7564\n",
            "Epoch 188/200\n",
            "398/397 [==============================] - 61s 152ms/step - loss: 0.7728 - accuracy: 0.7627\n",
            "Epoch 189/200\n",
            "398/397 [==============================] - 61s 152ms/step - loss: 0.7803 - accuracy: 0.7657\n",
            "Epoch 190/200\n",
            "398/397 [==============================] - 61s 153ms/step - loss: 0.7937 - accuracy: 0.7613\n",
            "Epoch 191/200\n",
            "398/397 [==============================] - 61s 153ms/step - loss: 0.7988 - accuracy: 0.7638\n",
            "Epoch 192/200\n",
            "398/397 [==============================] - 61s 153ms/step - loss: 0.7835 - accuracy: 0.7639\n",
            "Epoch 193/200\n",
            "398/397 [==============================] - 61s 153ms/step - loss: 0.7887 - accuracy: 0.7590\n",
            "Epoch 194/200\n",
            "398/397 [==============================] - 61s 154ms/step - loss: 0.7675 - accuracy: 0.7672\n",
            "Epoch 195/200\n",
            "398/397 [==============================] - 61s 154ms/step - loss: 0.7711 - accuracy: 0.7644\n",
            "Epoch 196/200\n",
            "398/397 [==============================] - 61s 154ms/step - loss: 0.7784 - accuracy: 0.7655\n",
            "Epoch 197/200\n",
            "398/397 [==============================] - 61s 154ms/step - loss: 0.7814 - accuracy: 0.7667\n",
            "Epoch 198/200\n",
            "398/397 [==============================] - 61s 154ms/step - loss: 0.7616 - accuracy: 0.7690\n",
            "Epoch 199/200\n",
            "398/397 [==============================] - 61s 154ms/step - loss: 0.7811 - accuracy: 0.7642\n",
            "Epoch 200/200\n",
            "398/397 [==============================] - 61s 155ms/step - loss: 0.7483 - accuracy: 0.7739\n",
            "132/132 [==============================] - 3s 24ms/step - loss: 1.2726 - accuracy: 0.7169\n",
            "[1.2725642919540405, 0.7168645858764648]\n"
          ],
          "name": "stdout"
        }
      ]
    },
    {
      "cell_type": "code",
      "metadata": {
        "id": "P_ca7oh6gduB"
      },
      "source": [
        "model.save('./food_recognition_mobile.h5')"
      ],
      "execution_count": 15,
      "outputs": []
    },
    {
      "cell_type": "code",
      "metadata": {
        "id": "rvT54if1gmTo"
      },
      "source": [
        "import matplotlib.pyplot as plt\n",
        "import numpy as np\n",
        "\n",
        "def process(data):\n",
        "    plt.figure()\n",
        "    plt.imshow(data)"
      ],
      "execution_count": null,
      "outputs": []
    },
    {
      "cell_type": "code",
      "metadata": {
        "id": "C2zr9jQORdML",
        "outputId": "cdb0cd9d-d607-4a05-8302-01c11428b35f",
        "colab": {
          "base_uri": "https://localhost:8080/",
          "height": 35
        }
      },
      "source": [
        "print(X_test.shape)"
      ],
      "execution_count": null,
      "outputs": [
        {
          "output_type": "stream",
          "text": [
            "(4210, 150, 150, 3)\n"
          ],
          "name": "stdout"
        }
      ]
    },
    {
      "cell_type": "code",
      "metadata": {
        "id": "t7l7T7oP3N5a"
      },
      "source": [
        "# 比較用 800*800 トリミング\n",
        "for index, classlabel in enumerate(classes):\n",
        "    photos_dir = './food/' + classlabel  \n",
        "    files = glob.glob(photos_dir + '/*.jpg')\n",
        "    for i, file in enumerate(files):\n",
        "        image = Image.open(file)\n",
        "        image = image.convert('RGB')\n",
        "        # image = image.convert('RGB')の前にトリミングするとメモリオーバー、理由不明\n",
        "        image = crop_center(image, 800, 800) # resizeする時にアスペクト比を固定させるため、800*800の部分をトリミング\n",
        "        image = image.resize((image_size, image_size))\n",
        "        data = np.asarray(image, dtype=np.float32) / 255.0  # 正規化 # dtype=np.float32でサイズ縮小、MemoryError解消のため # 2020/7/7\n",
        "        data = np.array(data)\n",
        "        process(data)\n",
        "        X = []\n",
        "        # 最後尾に追加する\n",
        "        X.append(data)\n",
        "        X = np.array(X)\n",
        "        result = model.predict([X])[0]\n",
        "        # 値の大きい方の番号(配列の添字)を返す\n",
        "        predicted = result.argmax()\n",
        "        percentage = int(result[predicted] * 100)\n",
        "        print(classes[predicted], percentage)\n",
        "        print()\n",
        "        if i > 0:\n",
        "          break"
      ],
      "execution_count": null,
      "outputs": []
    },
    {
      "cell_type": "code",
      "metadata": {
        "id": "kcEQS1dd58Wf"
      },
      "source": [
        "for index, classlabel in enumerate(classes):\n",
        "    photos_dir = './food/' + classlabel  \n",
        "    files = glob.glob(photos_dir + '/*.jpg')\n",
        "    for i, file in enumerate(files):\n",
        "        image = Image.open(file)\n",
        "        image = image.convert('RGB')\n",
        "        w, h = image.size\n",
        "        image = crop_center(image, w, w) if w >= h else crop_center(image, h, h)\n",
        "        image = image.resize((image_size, image_size))\n",
        "        data = np.asarray(image, dtype=np.float32) / 255.0  # 正規化 # dtype=np.float32でサイズ縮小、MemoryError解消のため # 2020/7/7\n",
        "        data = np.array(data)\n",
        "        process(data)\n",
        "        X = []\n",
        "        # 最後尾に追加する\n",
        "        X.append(data)\n",
        "        X = np.array(X)\n",
        "        result = model.predict([X])[0]\n",
        "        # 値の大きい方の番号(配列の添字)を返す\n",
        "        predicted = result.argmax()\n",
        "        percentage = int(result[predicted] * 100)\n",
        "        print(classes[predicted], percentage)\n",
        "        print()\n",
        "        if i > 0:\n",
        "          break"
      ],
      "execution_count": null,
      "outputs": []
    },
    {
      "cell_type": "code",
      "metadata": {
        "id": "brnVukT0pf5J"
      },
      "source": [
        ""
      ],
      "execution_count": null,
      "outputs": []
    }
  ]
}